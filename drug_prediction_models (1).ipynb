{
  "nbformat": 4,
  "nbformat_minor": 0,
  "metadata": {
    "colab": {
      "name": "drug-prediction-models.ipynb",
      "provenance": []
    },
    "kernelspec": {
      "name": "python3",
      "display_name": "Python 3"
    },
    "language_info": {
      "name": "python"
    }
  },
  "cells": [
    {
      "cell_type": "markdown",
      "metadata": {
        "id": "K7mP60ElmXh2"
      },
      "source": [
        "#Mount"
      ]
    },
    {
      "cell_type": "code",
      "metadata": {
        "colab": {
          "base_uri": "https://localhost:8080/"
        },
        "id": "M2WOcOpIXGqu",
        "outputId": "d71de185-5e22-4281-d24d-a5f67605fe07"
      },
      "source": [
        "from google.colab import drive\n",
        "drive.mount('/content/drive')"
      ],
      "execution_count": null,
      "outputs": [
        {
          "output_type": "stream",
          "text": [
            "Drive already mounted at /content/drive; to attempt to forcibly remount, call drive.mount(\"/content/drive\", force_remount=True).\n"
          ],
          "name": "stdout"
        }
      ]
    },
    {
      "cell_type": "markdown",
      "metadata": {
        "id": "PToQQONPmVUY"
      },
      "source": [
        "#Imports"
      ]
    },
    {
      "cell_type": "code",
      "metadata": {
        "id": "vSktQ6xKXP_A"
      },
      "source": [
        "# Imports\n",
        "#import streamlit as st\n",
        "import pandas as pd\n",
        "import numpy as np\n",
        "import matplotlib.pyplot as plt\n",
        "import seaborn as sns\n",
        "from sklearn.preprocessing import StandardScaler\n",
        "from sklearn.cluster import KMeans\n",
        "from sklearn.cluster import AgglomerativeClustering\n",
        "import scipy.cluster.hierarchy as sch\n",
        "plt.style.use('fivethirtyeight')"
      ],
      "execution_count": null,
      "outputs": []
    },
    {
      "cell_type": "markdown",
      "metadata": {
        "id": "xbSbZ21Lnce4"
      },
      "source": [
        "#Data Dictionary:\n",
        "Column | Name\t| Data | Type | Description | Drug |\n",
        "Object\tType of drug (drugA, drugB, drugC, drugX, & drugY) (target)\n",
        "\n",
        "Age -\tInt\tAge of patient\n",
        "\n",
        "Sex -\tObject\tM (male) or F (female)\n",
        "\n",
        "BP - Object\tBlood pressure levels (low, normal, or high)\n",
        "\n",
        "Cholesterol\t- Object\tCholesterol levels (normal or high)\n",
        "\n",
        "Na_to_K\t- Float\tSodium to Potassium ratio in blood"
      ]
    },
    {
      "cell_type": "markdown",
      "metadata": {
        "id": "pxjQTed_mapc"
      },
      "source": [
        "#Creating the Dataframe"
      ]
    },
    {
      "cell_type": "code",
      "metadata": {
        "colab": {
          "base_uri": "https://localhost:8080/",
          "height": 204
        },
        "id": "KDKnVV6wXWO0",
        "outputId": "91454dba-be62-4fc6-a44c-49cf4733c73d"
      },
      "source": [
        "df = pd.read_csv('/content/drive/MyDrive/PTDataScience/PandasForDataManipulation/drug200.csv')\n",
        "df.head()"
      ],
      "execution_count": null,
      "outputs": [
        {
          "output_type": "execute_result",
          "data": {
            "text/html": [
              "<div>\n",
              "<style scoped>\n",
              "    .dataframe tbody tr th:only-of-type {\n",
              "        vertical-align: middle;\n",
              "    }\n",
              "\n",
              "    .dataframe tbody tr th {\n",
              "        vertical-align: top;\n",
              "    }\n",
              "\n",
              "    .dataframe thead th {\n",
              "        text-align: right;\n",
              "    }\n",
              "</style>\n",
              "<table border=\"1\" class=\"dataframe\">\n",
              "  <thead>\n",
              "    <tr style=\"text-align: right;\">\n",
              "      <th></th>\n",
              "      <th>Age</th>\n",
              "      <th>Sex</th>\n",
              "      <th>BP</th>\n",
              "      <th>Cholesterol</th>\n",
              "      <th>Na_to_K</th>\n",
              "      <th>Drug</th>\n",
              "    </tr>\n",
              "  </thead>\n",
              "  <tbody>\n",
              "    <tr>\n",
              "      <th>0</th>\n",
              "      <td>23</td>\n",
              "      <td>F</td>\n",
              "      <td>HIGH</td>\n",
              "      <td>HIGH</td>\n",
              "      <td>25.355</td>\n",
              "      <td>DrugY</td>\n",
              "    </tr>\n",
              "    <tr>\n",
              "      <th>1</th>\n",
              "      <td>47</td>\n",
              "      <td>M</td>\n",
              "      <td>LOW</td>\n",
              "      <td>HIGH</td>\n",
              "      <td>13.093</td>\n",
              "      <td>drugC</td>\n",
              "    </tr>\n",
              "    <tr>\n",
              "      <th>2</th>\n",
              "      <td>47</td>\n",
              "      <td>M</td>\n",
              "      <td>LOW</td>\n",
              "      <td>HIGH</td>\n",
              "      <td>10.114</td>\n",
              "      <td>drugC</td>\n",
              "    </tr>\n",
              "    <tr>\n",
              "      <th>3</th>\n",
              "      <td>28</td>\n",
              "      <td>F</td>\n",
              "      <td>NORMAL</td>\n",
              "      <td>HIGH</td>\n",
              "      <td>7.798</td>\n",
              "      <td>drugX</td>\n",
              "    </tr>\n",
              "    <tr>\n",
              "      <th>4</th>\n",
              "      <td>61</td>\n",
              "      <td>F</td>\n",
              "      <td>LOW</td>\n",
              "      <td>HIGH</td>\n",
              "      <td>18.043</td>\n",
              "      <td>DrugY</td>\n",
              "    </tr>\n",
              "  </tbody>\n",
              "</table>\n",
              "</div>"
            ],
            "text/plain": [
              "   Age Sex      BP Cholesterol  Na_to_K   Drug\n",
              "0   23   F    HIGH        HIGH   25.355  DrugY\n",
              "1   47   M     LOW        HIGH   13.093  drugC\n",
              "2   47   M     LOW        HIGH   10.114  drugC\n",
              "3   28   F  NORMAL        HIGH    7.798  drugX\n",
              "4   61   F     LOW        HIGH   18.043  DrugY"
            ]
          },
          "metadata": {
            "tags": []
          },
          "execution_count": 72
        }
      ]
    },
    {
      "cell_type": "markdown",
      "metadata": {
        "id": "e4kjrYCime9m"
      },
      "source": [
        "#Exploring the Data"
      ]
    },
    {
      "cell_type": "code",
      "metadata": {
        "colab": {
          "base_uri": "https://localhost:8080/",
          "height": 419
        },
        "id": "olshWUD9Xz5s",
        "outputId": "09e48ff1-158f-4ad3-9e55-99c33548764c"
      },
      "source": [
        "df"
      ],
      "execution_count": null,
      "outputs": [
        {
          "output_type": "execute_result",
          "data": {
            "text/html": [
              "<div>\n",
              "<style scoped>\n",
              "    .dataframe tbody tr th:only-of-type {\n",
              "        vertical-align: middle;\n",
              "    }\n",
              "\n",
              "    .dataframe tbody tr th {\n",
              "        vertical-align: top;\n",
              "    }\n",
              "\n",
              "    .dataframe thead th {\n",
              "        text-align: right;\n",
              "    }\n",
              "</style>\n",
              "<table border=\"1\" class=\"dataframe\">\n",
              "  <thead>\n",
              "    <tr style=\"text-align: right;\">\n",
              "      <th></th>\n",
              "      <th>Age</th>\n",
              "      <th>Sex</th>\n",
              "      <th>BP</th>\n",
              "      <th>Cholesterol</th>\n",
              "      <th>Na_to_K</th>\n",
              "      <th>Drug</th>\n",
              "    </tr>\n",
              "  </thead>\n",
              "  <tbody>\n",
              "    <tr>\n",
              "      <th>0</th>\n",
              "      <td>23</td>\n",
              "      <td>F</td>\n",
              "      <td>HIGH</td>\n",
              "      <td>HIGH</td>\n",
              "      <td>25.355</td>\n",
              "      <td>DrugY</td>\n",
              "    </tr>\n",
              "    <tr>\n",
              "      <th>1</th>\n",
              "      <td>47</td>\n",
              "      <td>M</td>\n",
              "      <td>LOW</td>\n",
              "      <td>HIGH</td>\n",
              "      <td>13.093</td>\n",
              "      <td>drugC</td>\n",
              "    </tr>\n",
              "    <tr>\n",
              "      <th>2</th>\n",
              "      <td>47</td>\n",
              "      <td>M</td>\n",
              "      <td>LOW</td>\n",
              "      <td>HIGH</td>\n",
              "      <td>10.114</td>\n",
              "      <td>drugC</td>\n",
              "    </tr>\n",
              "    <tr>\n",
              "      <th>3</th>\n",
              "      <td>28</td>\n",
              "      <td>F</td>\n",
              "      <td>NORMAL</td>\n",
              "      <td>HIGH</td>\n",
              "      <td>7.798</td>\n",
              "      <td>drugX</td>\n",
              "    </tr>\n",
              "    <tr>\n",
              "      <th>4</th>\n",
              "      <td>61</td>\n",
              "      <td>F</td>\n",
              "      <td>LOW</td>\n",
              "      <td>HIGH</td>\n",
              "      <td>18.043</td>\n",
              "      <td>DrugY</td>\n",
              "    </tr>\n",
              "    <tr>\n",
              "      <th>...</th>\n",
              "      <td>...</td>\n",
              "      <td>...</td>\n",
              "      <td>...</td>\n",
              "      <td>...</td>\n",
              "      <td>...</td>\n",
              "      <td>...</td>\n",
              "    </tr>\n",
              "    <tr>\n",
              "      <th>195</th>\n",
              "      <td>56</td>\n",
              "      <td>F</td>\n",
              "      <td>LOW</td>\n",
              "      <td>HIGH</td>\n",
              "      <td>11.567</td>\n",
              "      <td>drugC</td>\n",
              "    </tr>\n",
              "    <tr>\n",
              "      <th>196</th>\n",
              "      <td>16</td>\n",
              "      <td>M</td>\n",
              "      <td>LOW</td>\n",
              "      <td>HIGH</td>\n",
              "      <td>12.006</td>\n",
              "      <td>drugC</td>\n",
              "    </tr>\n",
              "    <tr>\n",
              "      <th>197</th>\n",
              "      <td>52</td>\n",
              "      <td>M</td>\n",
              "      <td>NORMAL</td>\n",
              "      <td>HIGH</td>\n",
              "      <td>9.894</td>\n",
              "      <td>drugX</td>\n",
              "    </tr>\n",
              "    <tr>\n",
              "      <th>198</th>\n",
              "      <td>23</td>\n",
              "      <td>M</td>\n",
              "      <td>NORMAL</td>\n",
              "      <td>NORMAL</td>\n",
              "      <td>14.020</td>\n",
              "      <td>drugX</td>\n",
              "    </tr>\n",
              "    <tr>\n",
              "      <th>199</th>\n",
              "      <td>40</td>\n",
              "      <td>F</td>\n",
              "      <td>LOW</td>\n",
              "      <td>NORMAL</td>\n",
              "      <td>11.349</td>\n",
              "      <td>drugX</td>\n",
              "    </tr>\n",
              "  </tbody>\n",
              "</table>\n",
              "<p>200 rows × 6 columns</p>\n",
              "</div>"
            ],
            "text/plain": [
              "     Age Sex      BP Cholesterol  Na_to_K   Drug\n",
              "0     23   F    HIGH        HIGH   25.355  DrugY\n",
              "1     47   M     LOW        HIGH   13.093  drugC\n",
              "2     47   M     LOW        HIGH   10.114  drugC\n",
              "3     28   F  NORMAL        HIGH    7.798  drugX\n",
              "4     61   F     LOW        HIGH   18.043  DrugY\n",
              "..   ...  ..     ...         ...      ...    ...\n",
              "195   56   F     LOW        HIGH   11.567  drugC\n",
              "196   16   M     LOW        HIGH   12.006  drugC\n",
              "197   52   M  NORMAL        HIGH    9.894  drugX\n",
              "198   23   M  NORMAL      NORMAL   14.020  drugX\n",
              "199   40   F     LOW      NORMAL   11.349  drugX\n",
              "\n",
              "[200 rows x 6 columns]"
            ]
          },
          "metadata": {
            "tags": []
          },
          "execution_count": 73
        }
      ]
    },
    {
      "cell_type": "code",
      "metadata": {
        "id": "qr04WRyIpJfi"
      },
      "source": [
        "df.replace('DrugY', 'drugY', inplace=True)"
      ],
      "execution_count": null,
      "outputs": []
    },
    {
      "cell_type": "code",
      "metadata": {
        "colab": {
          "base_uri": "https://localhost:8080/",
          "height": 419
        },
        "id": "WNw9_g4epXbl",
        "outputId": "35add200-f3c0-4101-cc02-f2d04a6d747e"
      },
      "source": [
        "df"
      ],
      "execution_count": null,
      "outputs": [
        {
          "output_type": "execute_result",
          "data": {
            "text/html": [
              "<div>\n",
              "<style scoped>\n",
              "    .dataframe tbody tr th:only-of-type {\n",
              "        vertical-align: middle;\n",
              "    }\n",
              "\n",
              "    .dataframe tbody tr th {\n",
              "        vertical-align: top;\n",
              "    }\n",
              "\n",
              "    .dataframe thead th {\n",
              "        text-align: right;\n",
              "    }\n",
              "</style>\n",
              "<table border=\"1\" class=\"dataframe\">\n",
              "  <thead>\n",
              "    <tr style=\"text-align: right;\">\n",
              "      <th></th>\n",
              "      <th>Age</th>\n",
              "      <th>Sex</th>\n",
              "      <th>BP</th>\n",
              "      <th>Cholesterol</th>\n",
              "      <th>Na_to_K</th>\n",
              "      <th>Drug</th>\n",
              "    </tr>\n",
              "  </thead>\n",
              "  <tbody>\n",
              "    <tr>\n",
              "      <th>0</th>\n",
              "      <td>23</td>\n",
              "      <td>F</td>\n",
              "      <td>HIGH</td>\n",
              "      <td>HIGH</td>\n",
              "      <td>25.355</td>\n",
              "      <td>drugY</td>\n",
              "    </tr>\n",
              "    <tr>\n",
              "      <th>1</th>\n",
              "      <td>47</td>\n",
              "      <td>M</td>\n",
              "      <td>LOW</td>\n",
              "      <td>HIGH</td>\n",
              "      <td>13.093</td>\n",
              "      <td>drugC</td>\n",
              "    </tr>\n",
              "    <tr>\n",
              "      <th>2</th>\n",
              "      <td>47</td>\n",
              "      <td>M</td>\n",
              "      <td>LOW</td>\n",
              "      <td>HIGH</td>\n",
              "      <td>10.114</td>\n",
              "      <td>drugC</td>\n",
              "    </tr>\n",
              "    <tr>\n",
              "      <th>3</th>\n",
              "      <td>28</td>\n",
              "      <td>F</td>\n",
              "      <td>NORMAL</td>\n",
              "      <td>HIGH</td>\n",
              "      <td>7.798</td>\n",
              "      <td>drugX</td>\n",
              "    </tr>\n",
              "    <tr>\n",
              "      <th>4</th>\n",
              "      <td>61</td>\n",
              "      <td>F</td>\n",
              "      <td>LOW</td>\n",
              "      <td>HIGH</td>\n",
              "      <td>18.043</td>\n",
              "      <td>drugY</td>\n",
              "    </tr>\n",
              "    <tr>\n",
              "      <th>...</th>\n",
              "      <td>...</td>\n",
              "      <td>...</td>\n",
              "      <td>...</td>\n",
              "      <td>...</td>\n",
              "      <td>...</td>\n",
              "      <td>...</td>\n",
              "    </tr>\n",
              "    <tr>\n",
              "      <th>195</th>\n",
              "      <td>56</td>\n",
              "      <td>F</td>\n",
              "      <td>LOW</td>\n",
              "      <td>HIGH</td>\n",
              "      <td>11.567</td>\n",
              "      <td>drugC</td>\n",
              "    </tr>\n",
              "    <tr>\n",
              "      <th>196</th>\n",
              "      <td>16</td>\n",
              "      <td>M</td>\n",
              "      <td>LOW</td>\n",
              "      <td>HIGH</td>\n",
              "      <td>12.006</td>\n",
              "      <td>drugC</td>\n",
              "    </tr>\n",
              "    <tr>\n",
              "      <th>197</th>\n",
              "      <td>52</td>\n",
              "      <td>M</td>\n",
              "      <td>NORMAL</td>\n",
              "      <td>HIGH</td>\n",
              "      <td>9.894</td>\n",
              "      <td>drugX</td>\n",
              "    </tr>\n",
              "    <tr>\n",
              "      <th>198</th>\n",
              "      <td>23</td>\n",
              "      <td>M</td>\n",
              "      <td>NORMAL</td>\n",
              "      <td>NORMAL</td>\n",
              "      <td>14.020</td>\n",
              "      <td>drugX</td>\n",
              "    </tr>\n",
              "    <tr>\n",
              "      <th>199</th>\n",
              "      <td>40</td>\n",
              "      <td>F</td>\n",
              "      <td>LOW</td>\n",
              "      <td>NORMAL</td>\n",
              "      <td>11.349</td>\n",
              "      <td>drugX</td>\n",
              "    </tr>\n",
              "  </tbody>\n",
              "</table>\n",
              "<p>200 rows × 6 columns</p>\n",
              "</div>"
            ],
            "text/plain": [
              "     Age Sex      BP Cholesterol  Na_to_K   Drug\n",
              "0     23   F    HIGH        HIGH   25.355  drugY\n",
              "1     47   M     LOW        HIGH   13.093  drugC\n",
              "2     47   M     LOW        HIGH   10.114  drugC\n",
              "3     28   F  NORMAL        HIGH    7.798  drugX\n",
              "4     61   F     LOW        HIGH   18.043  drugY\n",
              "..   ...  ..     ...         ...      ...    ...\n",
              "195   56   F     LOW        HIGH   11.567  drugC\n",
              "196   16   M     LOW        HIGH   12.006  drugC\n",
              "197   52   M  NORMAL        HIGH    9.894  drugX\n",
              "198   23   M  NORMAL      NORMAL   14.020  drugX\n",
              "199   40   F     LOW      NORMAL   11.349  drugX\n",
              "\n",
              "[200 rows x 6 columns]"
            ]
          },
          "metadata": {
            "tags": []
          },
          "execution_count": 75
        }
      ]
    },
    {
      "cell_type": "code",
      "metadata": {
        "colab": {
          "base_uri": "https://localhost:8080/",
          "height": 1000
        },
        "id": "a92SIrknqtGW",
        "outputId": "28e0b351-b6ce-406e-b71f-2ede3723eae5"
      },
      "source": [
        "df.tail(55)"
      ],
      "execution_count": null,
      "outputs": [
        {
          "output_type": "execute_result",
          "data": {
            "text/html": [
              "<div>\n",
              "<style scoped>\n",
              "    .dataframe tbody tr th:only-of-type {\n",
              "        vertical-align: middle;\n",
              "    }\n",
              "\n",
              "    .dataframe tbody tr th {\n",
              "        vertical-align: top;\n",
              "    }\n",
              "\n",
              "    .dataframe thead th {\n",
              "        text-align: right;\n",
              "    }\n",
              "</style>\n",
              "<table border=\"1\" class=\"dataframe\">\n",
              "  <thead>\n",
              "    <tr style=\"text-align: right;\">\n",
              "      <th></th>\n",
              "      <th>Age</th>\n",
              "      <th>Sex</th>\n",
              "      <th>BP</th>\n",
              "      <th>Cholesterol</th>\n",
              "      <th>Na_to_K</th>\n",
              "      <th>Drug</th>\n",
              "    </tr>\n",
              "  </thead>\n",
              "  <tbody>\n",
              "    <tr>\n",
              "      <th>145</th>\n",
              "      <td>61</td>\n",
              "      <td>M</td>\n",
              "      <td>NORMAL</td>\n",
              "      <td>HIGH</td>\n",
              "      <td>9.443</td>\n",
              "      <td>drugX</td>\n",
              "    </tr>\n",
              "    <tr>\n",
              "      <th>146</th>\n",
              "      <td>37</td>\n",
              "      <td>F</td>\n",
              "      <td>LOW</td>\n",
              "      <td>NORMAL</td>\n",
              "      <td>12.006</td>\n",
              "      <td>drugX</td>\n",
              "    </tr>\n",
              "    <tr>\n",
              "      <th>147</th>\n",
              "      <td>26</td>\n",
              "      <td>F</td>\n",
              "      <td>HIGH</td>\n",
              "      <td>NORMAL</td>\n",
              "      <td>12.307</td>\n",
              "      <td>drugA</td>\n",
              "    </tr>\n",
              "    <tr>\n",
              "      <th>148</th>\n",
              "      <td>61</td>\n",
              "      <td>F</td>\n",
              "      <td>LOW</td>\n",
              "      <td>NORMAL</td>\n",
              "      <td>7.340</td>\n",
              "      <td>drugX</td>\n",
              "    </tr>\n",
              "    <tr>\n",
              "      <th>149</th>\n",
              "      <td>22</td>\n",
              "      <td>M</td>\n",
              "      <td>LOW</td>\n",
              "      <td>HIGH</td>\n",
              "      <td>8.151</td>\n",
              "      <td>drugC</td>\n",
              "    </tr>\n",
              "    <tr>\n",
              "      <th>150</th>\n",
              "      <td>49</td>\n",
              "      <td>M</td>\n",
              "      <td>HIGH</td>\n",
              "      <td>NORMAL</td>\n",
              "      <td>8.700</td>\n",
              "      <td>drugA</td>\n",
              "    </tr>\n",
              "    <tr>\n",
              "      <th>151</th>\n",
              "      <td>68</td>\n",
              "      <td>M</td>\n",
              "      <td>HIGH</td>\n",
              "      <td>HIGH</td>\n",
              "      <td>11.009</td>\n",
              "      <td>drugB</td>\n",
              "    </tr>\n",
              "    <tr>\n",
              "      <th>152</th>\n",
              "      <td>55</td>\n",
              "      <td>M</td>\n",
              "      <td>NORMAL</td>\n",
              "      <td>NORMAL</td>\n",
              "      <td>7.261</td>\n",
              "      <td>drugX</td>\n",
              "    </tr>\n",
              "    <tr>\n",
              "      <th>153</th>\n",
              "      <td>72</td>\n",
              "      <td>F</td>\n",
              "      <td>LOW</td>\n",
              "      <td>NORMAL</td>\n",
              "      <td>14.642</td>\n",
              "      <td>drugX</td>\n",
              "    </tr>\n",
              "    <tr>\n",
              "      <th>154</th>\n",
              "      <td>37</td>\n",
              "      <td>M</td>\n",
              "      <td>LOW</td>\n",
              "      <td>NORMAL</td>\n",
              "      <td>16.724</td>\n",
              "      <td>drugY</td>\n",
              "    </tr>\n",
              "    <tr>\n",
              "      <th>155</th>\n",
              "      <td>49</td>\n",
              "      <td>M</td>\n",
              "      <td>LOW</td>\n",
              "      <td>HIGH</td>\n",
              "      <td>10.537</td>\n",
              "      <td>drugC</td>\n",
              "    </tr>\n",
              "    <tr>\n",
              "      <th>156</th>\n",
              "      <td>31</td>\n",
              "      <td>M</td>\n",
              "      <td>HIGH</td>\n",
              "      <td>NORMAL</td>\n",
              "      <td>11.227</td>\n",
              "      <td>drugA</td>\n",
              "    </tr>\n",
              "    <tr>\n",
              "      <th>157</th>\n",
              "      <td>53</td>\n",
              "      <td>M</td>\n",
              "      <td>LOW</td>\n",
              "      <td>HIGH</td>\n",
              "      <td>22.963</td>\n",
              "      <td>drugY</td>\n",
              "    </tr>\n",
              "    <tr>\n",
              "      <th>158</th>\n",
              "      <td>59</td>\n",
              "      <td>F</td>\n",
              "      <td>LOW</td>\n",
              "      <td>HIGH</td>\n",
              "      <td>10.444</td>\n",
              "      <td>drugC</td>\n",
              "    </tr>\n",
              "    <tr>\n",
              "      <th>159</th>\n",
              "      <td>34</td>\n",
              "      <td>F</td>\n",
              "      <td>LOW</td>\n",
              "      <td>NORMAL</td>\n",
              "      <td>12.923</td>\n",
              "      <td>drugX</td>\n",
              "    </tr>\n",
              "    <tr>\n",
              "      <th>160</th>\n",
              "      <td>30</td>\n",
              "      <td>F</td>\n",
              "      <td>NORMAL</td>\n",
              "      <td>HIGH</td>\n",
              "      <td>10.443</td>\n",
              "      <td>drugX</td>\n",
              "    </tr>\n",
              "    <tr>\n",
              "      <th>161</th>\n",
              "      <td>57</td>\n",
              "      <td>F</td>\n",
              "      <td>HIGH</td>\n",
              "      <td>NORMAL</td>\n",
              "      <td>9.945</td>\n",
              "      <td>drugB</td>\n",
              "    </tr>\n",
              "    <tr>\n",
              "      <th>162</th>\n",
              "      <td>43</td>\n",
              "      <td>M</td>\n",
              "      <td>NORMAL</td>\n",
              "      <td>NORMAL</td>\n",
              "      <td>12.859</td>\n",
              "      <td>drugX</td>\n",
              "    </tr>\n",
              "    <tr>\n",
              "      <th>163</th>\n",
              "      <td>21</td>\n",
              "      <td>F</td>\n",
              "      <td>HIGH</td>\n",
              "      <td>NORMAL</td>\n",
              "      <td>28.632</td>\n",
              "      <td>drugY</td>\n",
              "    </tr>\n",
              "    <tr>\n",
              "      <th>164</th>\n",
              "      <td>16</td>\n",
              "      <td>M</td>\n",
              "      <td>HIGH</td>\n",
              "      <td>NORMAL</td>\n",
              "      <td>19.007</td>\n",
              "      <td>drugY</td>\n",
              "    </tr>\n",
              "    <tr>\n",
              "      <th>165</th>\n",
              "      <td>38</td>\n",
              "      <td>M</td>\n",
              "      <td>LOW</td>\n",
              "      <td>HIGH</td>\n",
              "      <td>18.295</td>\n",
              "      <td>drugY</td>\n",
              "    </tr>\n",
              "    <tr>\n",
              "      <th>166</th>\n",
              "      <td>58</td>\n",
              "      <td>F</td>\n",
              "      <td>LOW</td>\n",
              "      <td>HIGH</td>\n",
              "      <td>26.645</td>\n",
              "      <td>drugY</td>\n",
              "    </tr>\n",
              "    <tr>\n",
              "      <th>167</th>\n",
              "      <td>57</td>\n",
              "      <td>F</td>\n",
              "      <td>NORMAL</td>\n",
              "      <td>HIGH</td>\n",
              "      <td>14.216</td>\n",
              "      <td>drugX</td>\n",
              "    </tr>\n",
              "    <tr>\n",
              "      <th>168</th>\n",
              "      <td>51</td>\n",
              "      <td>F</td>\n",
              "      <td>LOW</td>\n",
              "      <td>NORMAL</td>\n",
              "      <td>23.003</td>\n",
              "      <td>drugY</td>\n",
              "    </tr>\n",
              "    <tr>\n",
              "      <th>169</th>\n",
              "      <td>20</td>\n",
              "      <td>F</td>\n",
              "      <td>HIGH</td>\n",
              "      <td>HIGH</td>\n",
              "      <td>11.262</td>\n",
              "      <td>drugA</td>\n",
              "    </tr>\n",
              "    <tr>\n",
              "      <th>170</th>\n",
              "      <td>28</td>\n",
              "      <td>F</td>\n",
              "      <td>NORMAL</td>\n",
              "      <td>HIGH</td>\n",
              "      <td>12.879</td>\n",
              "      <td>drugX</td>\n",
              "    </tr>\n",
              "    <tr>\n",
              "      <th>171</th>\n",
              "      <td>45</td>\n",
              "      <td>M</td>\n",
              "      <td>LOW</td>\n",
              "      <td>NORMAL</td>\n",
              "      <td>10.017</td>\n",
              "      <td>drugX</td>\n",
              "    </tr>\n",
              "    <tr>\n",
              "      <th>172</th>\n",
              "      <td>39</td>\n",
              "      <td>F</td>\n",
              "      <td>NORMAL</td>\n",
              "      <td>NORMAL</td>\n",
              "      <td>17.225</td>\n",
              "      <td>drugY</td>\n",
              "    </tr>\n",
              "    <tr>\n",
              "      <th>173</th>\n",
              "      <td>41</td>\n",
              "      <td>F</td>\n",
              "      <td>LOW</td>\n",
              "      <td>NORMAL</td>\n",
              "      <td>18.739</td>\n",
              "      <td>drugY</td>\n",
              "    </tr>\n",
              "    <tr>\n",
              "      <th>174</th>\n",
              "      <td>42</td>\n",
              "      <td>M</td>\n",
              "      <td>HIGH</td>\n",
              "      <td>NORMAL</td>\n",
              "      <td>12.766</td>\n",
              "      <td>drugA</td>\n",
              "    </tr>\n",
              "    <tr>\n",
              "      <th>175</th>\n",
              "      <td>73</td>\n",
              "      <td>F</td>\n",
              "      <td>HIGH</td>\n",
              "      <td>HIGH</td>\n",
              "      <td>18.348</td>\n",
              "      <td>drugY</td>\n",
              "    </tr>\n",
              "    <tr>\n",
              "      <th>176</th>\n",
              "      <td>48</td>\n",
              "      <td>M</td>\n",
              "      <td>HIGH</td>\n",
              "      <td>NORMAL</td>\n",
              "      <td>10.446</td>\n",
              "      <td>drugA</td>\n",
              "    </tr>\n",
              "    <tr>\n",
              "      <th>177</th>\n",
              "      <td>25</td>\n",
              "      <td>M</td>\n",
              "      <td>NORMAL</td>\n",
              "      <td>HIGH</td>\n",
              "      <td>19.011</td>\n",
              "      <td>drugY</td>\n",
              "    </tr>\n",
              "    <tr>\n",
              "      <th>178</th>\n",
              "      <td>39</td>\n",
              "      <td>M</td>\n",
              "      <td>NORMAL</td>\n",
              "      <td>HIGH</td>\n",
              "      <td>15.969</td>\n",
              "      <td>drugY</td>\n",
              "    </tr>\n",
              "    <tr>\n",
              "      <th>179</th>\n",
              "      <td>67</td>\n",
              "      <td>F</td>\n",
              "      <td>NORMAL</td>\n",
              "      <td>HIGH</td>\n",
              "      <td>15.891</td>\n",
              "      <td>drugY</td>\n",
              "    </tr>\n",
              "    <tr>\n",
              "      <th>180</th>\n",
              "      <td>22</td>\n",
              "      <td>F</td>\n",
              "      <td>HIGH</td>\n",
              "      <td>NORMAL</td>\n",
              "      <td>22.818</td>\n",
              "      <td>drugY</td>\n",
              "    </tr>\n",
              "    <tr>\n",
              "      <th>181</th>\n",
              "      <td>59</td>\n",
              "      <td>F</td>\n",
              "      <td>NORMAL</td>\n",
              "      <td>HIGH</td>\n",
              "      <td>13.884</td>\n",
              "      <td>drugX</td>\n",
              "    </tr>\n",
              "    <tr>\n",
              "      <th>182</th>\n",
              "      <td>20</td>\n",
              "      <td>F</td>\n",
              "      <td>LOW</td>\n",
              "      <td>NORMAL</td>\n",
              "      <td>11.686</td>\n",
              "      <td>drugX</td>\n",
              "    </tr>\n",
              "    <tr>\n",
              "      <th>183</th>\n",
              "      <td>36</td>\n",
              "      <td>F</td>\n",
              "      <td>HIGH</td>\n",
              "      <td>NORMAL</td>\n",
              "      <td>15.490</td>\n",
              "      <td>drugY</td>\n",
              "    </tr>\n",
              "    <tr>\n",
              "      <th>184</th>\n",
              "      <td>18</td>\n",
              "      <td>F</td>\n",
              "      <td>HIGH</td>\n",
              "      <td>HIGH</td>\n",
              "      <td>37.188</td>\n",
              "      <td>drugY</td>\n",
              "    </tr>\n",
              "    <tr>\n",
              "      <th>185</th>\n",
              "      <td>57</td>\n",
              "      <td>F</td>\n",
              "      <td>NORMAL</td>\n",
              "      <td>NORMAL</td>\n",
              "      <td>25.893</td>\n",
              "      <td>drugY</td>\n",
              "    </tr>\n",
              "    <tr>\n",
              "      <th>186</th>\n",
              "      <td>70</td>\n",
              "      <td>M</td>\n",
              "      <td>HIGH</td>\n",
              "      <td>HIGH</td>\n",
              "      <td>9.849</td>\n",
              "      <td>drugB</td>\n",
              "    </tr>\n",
              "    <tr>\n",
              "      <th>187</th>\n",
              "      <td>47</td>\n",
              "      <td>M</td>\n",
              "      <td>HIGH</td>\n",
              "      <td>HIGH</td>\n",
              "      <td>10.403</td>\n",
              "      <td>drugA</td>\n",
              "    </tr>\n",
              "    <tr>\n",
              "      <th>188</th>\n",
              "      <td>65</td>\n",
              "      <td>M</td>\n",
              "      <td>HIGH</td>\n",
              "      <td>NORMAL</td>\n",
              "      <td>34.997</td>\n",
              "      <td>drugY</td>\n",
              "    </tr>\n",
              "    <tr>\n",
              "      <th>189</th>\n",
              "      <td>64</td>\n",
              "      <td>M</td>\n",
              "      <td>HIGH</td>\n",
              "      <td>NORMAL</td>\n",
              "      <td>20.932</td>\n",
              "      <td>drugY</td>\n",
              "    </tr>\n",
              "    <tr>\n",
              "      <th>190</th>\n",
              "      <td>58</td>\n",
              "      <td>M</td>\n",
              "      <td>HIGH</td>\n",
              "      <td>HIGH</td>\n",
              "      <td>18.991</td>\n",
              "      <td>drugY</td>\n",
              "    </tr>\n",
              "    <tr>\n",
              "      <th>191</th>\n",
              "      <td>23</td>\n",
              "      <td>M</td>\n",
              "      <td>HIGH</td>\n",
              "      <td>HIGH</td>\n",
              "      <td>8.011</td>\n",
              "      <td>drugA</td>\n",
              "    </tr>\n",
              "    <tr>\n",
              "      <th>192</th>\n",
              "      <td>72</td>\n",
              "      <td>M</td>\n",
              "      <td>LOW</td>\n",
              "      <td>HIGH</td>\n",
              "      <td>16.310</td>\n",
              "      <td>drugY</td>\n",
              "    </tr>\n",
              "    <tr>\n",
              "      <th>193</th>\n",
              "      <td>72</td>\n",
              "      <td>M</td>\n",
              "      <td>LOW</td>\n",
              "      <td>HIGH</td>\n",
              "      <td>6.769</td>\n",
              "      <td>drugC</td>\n",
              "    </tr>\n",
              "    <tr>\n",
              "      <th>194</th>\n",
              "      <td>46</td>\n",
              "      <td>F</td>\n",
              "      <td>HIGH</td>\n",
              "      <td>HIGH</td>\n",
              "      <td>34.686</td>\n",
              "      <td>drugY</td>\n",
              "    </tr>\n",
              "    <tr>\n",
              "      <th>195</th>\n",
              "      <td>56</td>\n",
              "      <td>F</td>\n",
              "      <td>LOW</td>\n",
              "      <td>HIGH</td>\n",
              "      <td>11.567</td>\n",
              "      <td>drugC</td>\n",
              "    </tr>\n",
              "    <tr>\n",
              "      <th>196</th>\n",
              "      <td>16</td>\n",
              "      <td>M</td>\n",
              "      <td>LOW</td>\n",
              "      <td>HIGH</td>\n",
              "      <td>12.006</td>\n",
              "      <td>drugC</td>\n",
              "    </tr>\n",
              "    <tr>\n",
              "      <th>197</th>\n",
              "      <td>52</td>\n",
              "      <td>M</td>\n",
              "      <td>NORMAL</td>\n",
              "      <td>HIGH</td>\n",
              "      <td>9.894</td>\n",
              "      <td>drugX</td>\n",
              "    </tr>\n",
              "    <tr>\n",
              "      <th>198</th>\n",
              "      <td>23</td>\n",
              "      <td>M</td>\n",
              "      <td>NORMAL</td>\n",
              "      <td>NORMAL</td>\n",
              "      <td>14.020</td>\n",
              "      <td>drugX</td>\n",
              "    </tr>\n",
              "    <tr>\n",
              "      <th>199</th>\n",
              "      <td>40</td>\n",
              "      <td>F</td>\n",
              "      <td>LOW</td>\n",
              "      <td>NORMAL</td>\n",
              "      <td>11.349</td>\n",
              "      <td>drugX</td>\n",
              "    </tr>\n",
              "  </tbody>\n",
              "</table>\n",
              "</div>"
            ],
            "text/plain": [
              "     Age Sex      BP Cholesterol  Na_to_K   Drug\n",
              "145   61   M  NORMAL        HIGH    9.443  drugX\n",
              "146   37   F     LOW      NORMAL   12.006  drugX\n",
              "147   26   F    HIGH      NORMAL   12.307  drugA\n",
              "148   61   F     LOW      NORMAL    7.340  drugX\n",
              "149   22   M     LOW        HIGH    8.151  drugC\n",
              "150   49   M    HIGH      NORMAL    8.700  drugA\n",
              "151   68   M    HIGH        HIGH   11.009  drugB\n",
              "152   55   M  NORMAL      NORMAL    7.261  drugX\n",
              "153   72   F     LOW      NORMAL   14.642  drugX\n",
              "154   37   M     LOW      NORMAL   16.724  drugY\n",
              "155   49   M     LOW        HIGH   10.537  drugC\n",
              "156   31   M    HIGH      NORMAL   11.227  drugA\n",
              "157   53   M     LOW        HIGH   22.963  drugY\n",
              "158   59   F     LOW        HIGH   10.444  drugC\n",
              "159   34   F     LOW      NORMAL   12.923  drugX\n",
              "160   30   F  NORMAL        HIGH   10.443  drugX\n",
              "161   57   F    HIGH      NORMAL    9.945  drugB\n",
              "162   43   M  NORMAL      NORMAL   12.859  drugX\n",
              "163   21   F    HIGH      NORMAL   28.632  drugY\n",
              "164   16   M    HIGH      NORMAL   19.007  drugY\n",
              "165   38   M     LOW        HIGH   18.295  drugY\n",
              "166   58   F     LOW        HIGH   26.645  drugY\n",
              "167   57   F  NORMAL        HIGH   14.216  drugX\n",
              "168   51   F     LOW      NORMAL   23.003  drugY\n",
              "169   20   F    HIGH        HIGH   11.262  drugA\n",
              "170   28   F  NORMAL        HIGH   12.879  drugX\n",
              "171   45   M     LOW      NORMAL   10.017  drugX\n",
              "172   39   F  NORMAL      NORMAL   17.225  drugY\n",
              "173   41   F     LOW      NORMAL   18.739  drugY\n",
              "174   42   M    HIGH      NORMAL   12.766  drugA\n",
              "175   73   F    HIGH        HIGH   18.348  drugY\n",
              "176   48   M    HIGH      NORMAL   10.446  drugA\n",
              "177   25   M  NORMAL        HIGH   19.011  drugY\n",
              "178   39   M  NORMAL        HIGH   15.969  drugY\n",
              "179   67   F  NORMAL        HIGH   15.891  drugY\n",
              "180   22   F    HIGH      NORMAL   22.818  drugY\n",
              "181   59   F  NORMAL        HIGH   13.884  drugX\n",
              "182   20   F     LOW      NORMAL   11.686  drugX\n",
              "183   36   F    HIGH      NORMAL   15.490  drugY\n",
              "184   18   F    HIGH        HIGH   37.188  drugY\n",
              "185   57   F  NORMAL      NORMAL   25.893  drugY\n",
              "186   70   M    HIGH        HIGH    9.849  drugB\n",
              "187   47   M    HIGH        HIGH   10.403  drugA\n",
              "188   65   M    HIGH      NORMAL   34.997  drugY\n",
              "189   64   M    HIGH      NORMAL   20.932  drugY\n",
              "190   58   M    HIGH        HIGH   18.991  drugY\n",
              "191   23   M    HIGH        HIGH    8.011  drugA\n",
              "192   72   M     LOW        HIGH   16.310  drugY\n",
              "193   72   M     LOW        HIGH    6.769  drugC\n",
              "194   46   F    HIGH        HIGH   34.686  drugY\n",
              "195   56   F     LOW        HIGH   11.567  drugC\n",
              "196   16   M     LOW        HIGH   12.006  drugC\n",
              "197   52   M  NORMAL        HIGH    9.894  drugX\n",
              "198   23   M  NORMAL      NORMAL   14.020  drugX\n",
              "199   40   F     LOW      NORMAL   11.349  drugX"
            ]
          },
          "metadata": {
            "tags": []
          },
          "execution_count": 76
        }
      ]
    },
    {
      "cell_type": "code",
      "metadata": {
        "colab": {
          "base_uri": "https://localhost:8080/",
          "height": 1000
        },
        "id": "mJlaHHD_q4U7",
        "outputId": "41af00e1-f8b9-45f7-a5ee-0d315b4839b7"
      },
      "source": [
        "df.head(55)"
      ],
      "execution_count": null,
      "outputs": [
        {
          "output_type": "execute_result",
          "data": {
            "text/html": [
              "<div>\n",
              "<style scoped>\n",
              "    .dataframe tbody tr th:only-of-type {\n",
              "        vertical-align: middle;\n",
              "    }\n",
              "\n",
              "    .dataframe tbody tr th {\n",
              "        vertical-align: top;\n",
              "    }\n",
              "\n",
              "    .dataframe thead th {\n",
              "        text-align: right;\n",
              "    }\n",
              "</style>\n",
              "<table border=\"1\" class=\"dataframe\">\n",
              "  <thead>\n",
              "    <tr style=\"text-align: right;\">\n",
              "      <th></th>\n",
              "      <th>Age</th>\n",
              "      <th>Sex</th>\n",
              "      <th>BP</th>\n",
              "      <th>Cholesterol</th>\n",
              "      <th>Na_to_K</th>\n",
              "      <th>Drug</th>\n",
              "    </tr>\n",
              "  </thead>\n",
              "  <tbody>\n",
              "    <tr>\n",
              "      <th>0</th>\n",
              "      <td>23</td>\n",
              "      <td>F</td>\n",
              "      <td>HIGH</td>\n",
              "      <td>HIGH</td>\n",
              "      <td>25.355</td>\n",
              "      <td>drugY</td>\n",
              "    </tr>\n",
              "    <tr>\n",
              "      <th>1</th>\n",
              "      <td>47</td>\n",
              "      <td>M</td>\n",
              "      <td>LOW</td>\n",
              "      <td>HIGH</td>\n",
              "      <td>13.093</td>\n",
              "      <td>drugC</td>\n",
              "    </tr>\n",
              "    <tr>\n",
              "      <th>2</th>\n",
              "      <td>47</td>\n",
              "      <td>M</td>\n",
              "      <td>LOW</td>\n",
              "      <td>HIGH</td>\n",
              "      <td>10.114</td>\n",
              "      <td>drugC</td>\n",
              "    </tr>\n",
              "    <tr>\n",
              "      <th>3</th>\n",
              "      <td>28</td>\n",
              "      <td>F</td>\n",
              "      <td>NORMAL</td>\n",
              "      <td>HIGH</td>\n",
              "      <td>7.798</td>\n",
              "      <td>drugX</td>\n",
              "    </tr>\n",
              "    <tr>\n",
              "      <th>4</th>\n",
              "      <td>61</td>\n",
              "      <td>F</td>\n",
              "      <td>LOW</td>\n",
              "      <td>HIGH</td>\n",
              "      <td>18.043</td>\n",
              "      <td>drugY</td>\n",
              "    </tr>\n",
              "    <tr>\n",
              "      <th>5</th>\n",
              "      <td>22</td>\n",
              "      <td>F</td>\n",
              "      <td>NORMAL</td>\n",
              "      <td>HIGH</td>\n",
              "      <td>8.607</td>\n",
              "      <td>drugX</td>\n",
              "    </tr>\n",
              "    <tr>\n",
              "      <th>6</th>\n",
              "      <td>49</td>\n",
              "      <td>F</td>\n",
              "      <td>NORMAL</td>\n",
              "      <td>HIGH</td>\n",
              "      <td>16.275</td>\n",
              "      <td>drugY</td>\n",
              "    </tr>\n",
              "    <tr>\n",
              "      <th>7</th>\n",
              "      <td>41</td>\n",
              "      <td>M</td>\n",
              "      <td>LOW</td>\n",
              "      <td>HIGH</td>\n",
              "      <td>11.037</td>\n",
              "      <td>drugC</td>\n",
              "    </tr>\n",
              "    <tr>\n",
              "      <th>8</th>\n",
              "      <td>60</td>\n",
              "      <td>M</td>\n",
              "      <td>NORMAL</td>\n",
              "      <td>HIGH</td>\n",
              "      <td>15.171</td>\n",
              "      <td>drugY</td>\n",
              "    </tr>\n",
              "    <tr>\n",
              "      <th>9</th>\n",
              "      <td>43</td>\n",
              "      <td>M</td>\n",
              "      <td>LOW</td>\n",
              "      <td>NORMAL</td>\n",
              "      <td>19.368</td>\n",
              "      <td>drugY</td>\n",
              "    </tr>\n",
              "    <tr>\n",
              "      <th>10</th>\n",
              "      <td>47</td>\n",
              "      <td>F</td>\n",
              "      <td>LOW</td>\n",
              "      <td>HIGH</td>\n",
              "      <td>11.767</td>\n",
              "      <td>drugC</td>\n",
              "    </tr>\n",
              "    <tr>\n",
              "      <th>11</th>\n",
              "      <td>34</td>\n",
              "      <td>F</td>\n",
              "      <td>HIGH</td>\n",
              "      <td>NORMAL</td>\n",
              "      <td>19.199</td>\n",
              "      <td>drugY</td>\n",
              "    </tr>\n",
              "    <tr>\n",
              "      <th>12</th>\n",
              "      <td>43</td>\n",
              "      <td>M</td>\n",
              "      <td>LOW</td>\n",
              "      <td>HIGH</td>\n",
              "      <td>15.376</td>\n",
              "      <td>drugY</td>\n",
              "    </tr>\n",
              "    <tr>\n",
              "      <th>13</th>\n",
              "      <td>74</td>\n",
              "      <td>F</td>\n",
              "      <td>LOW</td>\n",
              "      <td>HIGH</td>\n",
              "      <td>20.942</td>\n",
              "      <td>drugY</td>\n",
              "    </tr>\n",
              "    <tr>\n",
              "      <th>14</th>\n",
              "      <td>50</td>\n",
              "      <td>F</td>\n",
              "      <td>NORMAL</td>\n",
              "      <td>HIGH</td>\n",
              "      <td>12.703</td>\n",
              "      <td>drugX</td>\n",
              "    </tr>\n",
              "    <tr>\n",
              "      <th>15</th>\n",
              "      <td>16</td>\n",
              "      <td>F</td>\n",
              "      <td>HIGH</td>\n",
              "      <td>NORMAL</td>\n",
              "      <td>15.516</td>\n",
              "      <td>drugY</td>\n",
              "    </tr>\n",
              "    <tr>\n",
              "      <th>16</th>\n",
              "      <td>69</td>\n",
              "      <td>M</td>\n",
              "      <td>LOW</td>\n",
              "      <td>NORMAL</td>\n",
              "      <td>11.455</td>\n",
              "      <td>drugX</td>\n",
              "    </tr>\n",
              "    <tr>\n",
              "      <th>17</th>\n",
              "      <td>43</td>\n",
              "      <td>M</td>\n",
              "      <td>HIGH</td>\n",
              "      <td>HIGH</td>\n",
              "      <td>13.972</td>\n",
              "      <td>drugA</td>\n",
              "    </tr>\n",
              "    <tr>\n",
              "      <th>18</th>\n",
              "      <td>23</td>\n",
              "      <td>M</td>\n",
              "      <td>LOW</td>\n",
              "      <td>HIGH</td>\n",
              "      <td>7.298</td>\n",
              "      <td>drugC</td>\n",
              "    </tr>\n",
              "    <tr>\n",
              "      <th>19</th>\n",
              "      <td>32</td>\n",
              "      <td>F</td>\n",
              "      <td>HIGH</td>\n",
              "      <td>NORMAL</td>\n",
              "      <td>25.974</td>\n",
              "      <td>drugY</td>\n",
              "    </tr>\n",
              "    <tr>\n",
              "      <th>20</th>\n",
              "      <td>57</td>\n",
              "      <td>M</td>\n",
              "      <td>LOW</td>\n",
              "      <td>NORMAL</td>\n",
              "      <td>19.128</td>\n",
              "      <td>drugY</td>\n",
              "    </tr>\n",
              "    <tr>\n",
              "      <th>21</th>\n",
              "      <td>63</td>\n",
              "      <td>M</td>\n",
              "      <td>NORMAL</td>\n",
              "      <td>HIGH</td>\n",
              "      <td>25.917</td>\n",
              "      <td>drugY</td>\n",
              "    </tr>\n",
              "    <tr>\n",
              "      <th>22</th>\n",
              "      <td>47</td>\n",
              "      <td>M</td>\n",
              "      <td>LOW</td>\n",
              "      <td>NORMAL</td>\n",
              "      <td>30.568</td>\n",
              "      <td>drugY</td>\n",
              "    </tr>\n",
              "    <tr>\n",
              "      <th>23</th>\n",
              "      <td>48</td>\n",
              "      <td>F</td>\n",
              "      <td>LOW</td>\n",
              "      <td>HIGH</td>\n",
              "      <td>15.036</td>\n",
              "      <td>drugY</td>\n",
              "    </tr>\n",
              "    <tr>\n",
              "      <th>24</th>\n",
              "      <td>33</td>\n",
              "      <td>F</td>\n",
              "      <td>LOW</td>\n",
              "      <td>HIGH</td>\n",
              "      <td>33.486</td>\n",
              "      <td>drugY</td>\n",
              "    </tr>\n",
              "    <tr>\n",
              "      <th>25</th>\n",
              "      <td>28</td>\n",
              "      <td>F</td>\n",
              "      <td>HIGH</td>\n",
              "      <td>NORMAL</td>\n",
              "      <td>18.809</td>\n",
              "      <td>drugY</td>\n",
              "    </tr>\n",
              "    <tr>\n",
              "      <th>26</th>\n",
              "      <td>31</td>\n",
              "      <td>M</td>\n",
              "      <td>HIGH</td>\n",
              "      <td>HIGH</td>\n",
              "      <td>30.366</td>\n",
              "      <td>drugY</td>\n",
              "    </tr>\n",
              "    <tr>\n",
              "      <th>27</th>\n",
              "      <td>49</td>\n",
              "      <td>F</td>\n",
              "      <td>NORMAL</td>\n",
              "      <td>NORMAL</td>\n",
              "      <td>9.381</td>\n",
              "      <td>drugX</td>\n",
              "    </tr>\n",
              "    <tr>\n",
              "      <th>28</th>\n",
              "      <td>39</td>\n",
              "      <td>F</td>\n",
              "      <td>LOW</td>\n",
              "      <td>NORMAL</td>\n",
              "      <td>22.697</td>\n",
              "      <td>drugY</td>\n",
              "    </tr>\n",
              "    <tr>\n",
              "      <th>29</th>\n",
              "      <td>45</td>\n",
              "      <td>M</td>\n",
              "      <td>LOW</td>\n",
              "      <td>HIGH</td>\n",
              "      <td>17.951</td>\n",
              "      <td>drugY</td>\n",
              "    </tr>\n",
              "    <tr>\n",
              "      <th>30</th>\n",
              "      <td>18</td>\n",
              "      <td>F</td>\n",
              "      <td>NORMAL</td>\n",
              "      <td>NORMAL</td>\n",
              "      <td>8.750</td>\n",
              "      <td>drugX</td>\n",
              "    </tr>\n",
              "    <tr>\n",
              "      <th>31</th>\n",
              "      <td>74</td>\n",
              "      <td>M</td>\n",
              "      <td>HIGH</td>\n",
              "      <td>HIGH</td>\n",
              "      <td>9.567</td>\n",
              "      <td>drugB</td>\n",
              "    </tr>\n",
              "    <tr>\n",
              "      <th>32</th>\n",
              "      <td>49</td>\n",
              "      <td>M</td>\n",
              "      <td>LOW</td>\n",
              "      <td>NORMAL</td>\n",
              "      <td>11.014</td>\n",
              "      <td>drugX</td>\n",
              "    </tr>\n",
              "    <tr>\n",
              "      <th>33</th>\n",
              "      <td>65</td>\n",
              "      <td>F</td>\n",
              "      <td>HIGH</td>\n",
              "      <td>NORMAL</td>\n",
              "      <td>31.876</td>\n",
              "      <td>drugY</td>\n",
              "    </tr>\n",
              "    <tr>\n",
              "      <th>34</th>\n",
              "      <td>53</td>\n",
              "      <td>M</td>\n",
              "      <td>NORMAL</td>\n",
              "      <td>HIGH</td>\n",
              "      <td>14.133</td>\n",
              "      <td>drugX</td>\n",
              "    </tr>\n",
              "    <tr>\n",
              "      <th>35</th>\n",
              "      <td>46</td>\n",
              "      <td>M</td>\n",
              "      <td>NORMAL</td>\n",
              "      <td>NORMAL</td>\n",
              "      <td>7.285</td>\n",
              "      <td>drugX</td>\n",
              "    </tr>\n",
              "    <tr>\n",
              "      <th>36</th>\n",
              "      <td>32</td>\n",
              "      <td>M</td>\n",
              "      <td>HIGH</td>\n",
              "      <td>NORMAL</td>\n",
              "      <td>9.445</td>\n",
              "      <td>drugA</td>\n",
              "    </tr>\n",
              "    <tr>\n",
              "      <th>37</th>\n",
              "      <td>39</td>\n",
              "      <td>M</td>\n",
              "      <td>LOW</td>\n",
              "      <td>NORMAL</td>\n",
              "      <td>13.938</td>\n",
              "      <td>drugX</td>\n",
              "    </tr>\n",
              "    <tr>\n",
              "      <th>38</th>\n",
              "      <td>39</td>\n",
              "      <td>F</td>\n",
              "      <td>NORMAL</td>\n",
              "      <td>NORMAL</td>\n",
              "      <td>9.709</td>\n",
              "      <td>drugX</td>\n",
              "    </tr>\n",
              "    <tr>\n",
              "      <th>39</th>\n",
              "      <td>15</td>\n",
              "      <td>M</td>\n",
              "      <td>NORMAL</td>\n",
              "      <td>HIGH</td>\n",
              "      <td>9.084</td>\n",
              "      <td>drugX</td>\n",
              "    </tr>\n",
              "    <tr>\n",
              "      <th>40</th>\n",
              "      <td>73</td>\n",
              "      <td>F</td>\n",
              "      <td>NORMAL</td>\n",
              "      <td>HIGH</td>\n",
              "      <td>19.221</td>\n",
              "      <td>drugY</td>\n",
              "    </tr>\n",
              "    <tr>\n",
              "      <th>41</th>\n",
              "      <td>58</td>\n",
              "      <td>F</td>\n",
              "      <td>HIGH</td>\n",
              "      <td>NORMAL</td>\n",
              "      <td>14.239</td>\n",
              "      <td>drugB</td>\n",
              "    </tr>\n",
              "    <tr>\n",
              "      <th>42</th>\n",
              "      <td>50</td>\n",
              "      <td>M</td>\n",
              "      <td>NORMAL</td>\n",
              "      <td>NORMAL</td>\n",
              "      <td>15.790</td>\n",
              "      <td>drugY</td>\n",
              "    </tr>\n",
              "    <tr>\n",
              "      <th>43</th>\n",
              "      <td>23</td>\n",
              "      <td>M</td>\n",
              "      <td>NORMAL</td>\n",
              "      <td>HIGH</td>\n",
              "      <td>12.260</td>\n",
              "      <td>drugX</td>\n",
              "    </tr>\n",
              "    <tr>\n",
              "      <th>44</th>\n",
              "      <td>50</td>\n",
              "      <td>F</td>\n",
              "      <td>NORMAL</td>\n",
              "      <td>NORMAL</td>\n",
              "      <td>12.295</td>\n",
              "      <td>drugX</td>\n",
              "    </tr>\n",
              "    <tr>\n",
              "      <th>45</th>\n",
              "      <td>66</td>\n",
              "      <td>F</td>\n",
              "      <td>NORMAL</td>\n",
              "      <td>NORMAL</td>\n",
              "      <td>8.107</td>\n",
              "      <td>drugX</td>\n",
              "    </tr>\n",
              "    <tr>\n",
              "      <th>46</th>\n",
              "      <td>37</td>\n",
              "      <td>F</td>\n",
              "      <td>HIGH</td>\n",
              "      <td>HIGH</td>\n",
              "      <td>13.091</td>\n",
              "      <td>drugA</td>\n",
              "    </tr>\n",
              "    <tr>\n",
              "      <th>47</th>\n",
              "      <td>68</td>\n",
              "      <td>M</td>\n",
              "      <td>LOW</td>\n",
              "      <td>HIGH</td>\n",
              "      <td>10.291</td>\n",
              "      <td>drugC</td>\n",
              "    </tr>\n",
              "    <tr>\n",
              "      <th>48</th>\n",
              "      <td>23</td>\n",
              "      <td>M</td>\n",
              "      <td>NORMAL</td>\n",
              "      <td>HIGH</td>\n",
              "      <td>31.686</td>\n",
              "      <td>drugY</td>\n",
              "    </tr>\n",
              "    <tr>\n",
              "      <th>49</th>\n",
              "      <td>28</td>\n",
              "      <td>F</td>\n",
              "      <td>LOW</td>\n",
              "      <td>HIGH</td>\n",
              "      <td>19.796</td>\n",
              "      <td>drugY</td>\n",
              "    </tr>\n",
              "    <tr>\n",
              "      <th>50</th>\n",
              "      <td>58</td>\n",
              "      <td>F</td>\n",
              "      <td>HIGH</td>\n",
              "      <td>HIGH</td>\n",
              "      <td>19.416</td>\n",
              "      <td>drugY</td>\n",
              "    </tr>\n",
              "    <tr>\n",
              "      <th>51</th>\n",
              "      <td>67</td>\n",
              "      <td>M</td>\n",
              "      <td>NORMAL</td>\n",
              "      <td>NORMAL</td>\n",
              "      <td>10.898</td>\n",
              "      <td>drugX</td>\n",
              "    </tr>\n",
              "    <tr>\n",
              "      <th>52</th>\n",
              "      <td>62</td>\n",
              "      <td>M</td>\n",
              "      <td>LOW</td>\n",
              "      <td>NORMAL</td>\n",
              "      <td>27.183</td>\n",
              "      <td>drugY</td>\n",
              "    </tr>\n",
              "    <tr>\n",
              "      <th>53</th>\n",
              "      <td>24</td>\n",
              "      <td>F</td>\n",
              "      <td>HIGH</td>\n",
              "      <td>NORMAL</td>\n",
              "      <td>18.457</td>\n",
              "      <td>drugY</td>\n",
              "    </tr>\n",
              "    <tr>\n",
              "      <th>54</th>\n",
              "      <td>68</td>\n",
              "      <td>F</td>\n",
              "      <td>HIGH</td>\n",
              "      <td>NORMAL</td>\n",
              "      <td>10.189</td>\n",
              "      <td>drugB</td>\n",
              "    </tr>\n",
              "  </tbody>\n",
              "</table>\n",
              "</div>"
            ],
            "text/plain": [
              "    Age Sex      BP Cholesterol  Na_to_K   Drug\n",
              "0    23   F    HIGH        HIGH   25.355  drugY\n",
              "1    47   M     LOW        HIGH   13.093  drugC\n",
              "2    47   M     LOW        HIGH   10.114  drugC\n",
              "3    28   F  NORMAL        HIGH    7.798  drugX\n",
              "4    61   F     LOW        HIGH   18.043  drugY\n",
              "5    22   F  NORMAL        HIGH    8.607  drugX\n",
              "6    49   F  NORMAL        HIGH   16.275  drugY\n",
              "7    41   M     LOW        HIGH   11.037  drugC\n",
              "8    60   M  NORMAL        HIGH   15.171  drugY\n",
              "9    43   M     LOW      NORMAL   19.368  drugY\n",
              "10   47   F     LOW        HIGH   11.767  drugC\n",
              "11   34   F    HIGH      NORMAL   19.199  drugY\n",
              "12   43   M     LOW        HIGH   15.376  drugY\n",
              "13   74   F     LOW        HIGH   20.942  drugY\n",
              "14   50   F  NORMAL        HIGH   12.703  drugX\n",
              "15   16   F    HIGH      NORMAL   15.516  drugY\n",
              "16   69   M     LOW      NORMAL   11.455  drugX\n",
              "17   43   M    HIGH        HIGH   13.972  drugA\n",
              "18   23   M     LOW        HIGH    7.298  drugC\n",
              "19   32   F    HIGH      NORMAL   25.974  drugY\n",
              "20   57   M     LOW      NORMAL   19.128  drugY\n",
              "21   63   M  NORMAL        HIGH   25.917  drugY\n",
              "22   47   M     LOW      NORMAL   30.568  drugY\n",
              "23   48   F     LOW        HIGH   15.036  drugY\n",
              "24   33   F     LOW        HIGH   33.486  drugY\n",
              "25   28   F    HIGH      NORMAL   18.809  drugY\n",
              "26   31   M    HIGH        HIGH   30.366  drugY\n",
              "27   49   F  NORMAL      NORMAL    9.381  drugX\n",
              "28   39   F     LOW      NORMAL   22.697  drugY\n",
              "29   45   M     LOW        HIGH   17.951  drugY\n",
              "30   18   F  NORMAL      NORMAL    8.750  drugX\n",
              "31   74   M    HIGH        HIGH    9.567  drugB\n",
              "32   49   M     LOW      NORMAL   11.014  drugX\n",
              "33   65   F    HIGH      NORMAL   31.876  drugY\n",
              "34   53   M  NORMAL        HIGH   14.133  drugX\n",
              "35   46   M  NORMAL      NORMAL    7.285  drugX\n",
              "36   32   M    HIGH      NORMAL    9.445  drugA\n",
              "37   39   M     LOW      NORMAL   13.938  drugX\n",
              "38   39   F  NORMAL      NORMAL    9.709  drugX\n",
              "39   15   M  NORMAL        HIGH    9.084  drugX\n",
              "40   73   F  NORMAL        HIGH   19.221  drugY\n",
              "41   58   F    HIGH      NORMAL   14.239  drugB\n",
              "42   50   M  NORMAL      NORMAL   15.790  drugY\n",
              "43   23   M  NORMAL        HIGH   12.260  drugX\n",
              "44   50   F  NORMAL      NORMAL   12.295  drugX\n",
              "45   66   F  NORMAL      NORMAL    8.107  drugX\n",
              "46   37   F    HIGH        HIGH   13.091  drugA\n",
              "47   68   M     LOW        HIGH   10.291  drugC\n",
              "48   23   M  NORMAL        HIGH   31.686  drugY\n",
              "49   28   F     LOW        HIGH   19.796  drugY\n",
              "50   58   F    HIGH        HIGH   19.416  drugY\n",
              "51   67   M  NORMAL      NORMAL   10.898  drugX\n",
              "52   62   M     LOW      NORMAL   27.183  drugY\n",
              "53   24   F    HIGH      NORMAL   18.457  drugY\n",
              "54   68   F    HIGH      NORMAL   10.189  drugB"
            ]
          },
          "metadata": {
            "tags": []
          },
          "execution_count": 77
        }
      ]
    },
    {
      "cell_type": "code",
      "metadata": {
        "colab": {
          "base_uri": "https://localhost:8080/"
        },
        "id": "wUZukXc0safA",
        "outputId": "2c53f0f7-3283-48b5-82c9-87b6ee94d54d"
      },
      "source": [
        "df.dtypes"
      ],
      "execution_count": null,
      "outputs": [
        {
          "output_type": "execute_result",
          "data": {
            "text/plain": [
              "Age              int64\n",
              "Sex             object\n",
              "BP              object\n",
              "Cholesterol     object\n",
              "Na_to_K        float64\n",
              "Drug            object\n",
              "dtype: object"
            ]
          },
          "metadata": {
            "tags": []
          },
          "execution_count": 78
        }
      ]
    },
    {
      "cell_type": "code",
      "metadata": {
        "colab": {
          "base_uri": "https://localhost:8080/"
        },
        "id": "n5sAlNHSp9ul",
        "outputId": "ad5c7316-583e-4a51-e6c0-4710007fc01c"
      },
      "source": [
        "df['Drug'].nunique()"
      ],
      "execution_count": null,
      "outputs": [
        {
          "output_type": "execute_result",
          "data": {
            "text/plain": [
              "5"
            ]
          },
          "metadata": {
            "tags": []
          },
          "execution_count": 79
        }
      ]
    },
    {
      "cell_type": "code",
      "metadata": {
        "colab": {
          "base_uri": "https://localhost:8080/"
        },
        "id": "pxwjfasad0-V",
        "outputId": "bc4349a1-4660-4130-f399-b4c4c494f1b7"
      },
      "source": [
        "df.isnull().value_counts()"
      ],
      "execution_count": null,
      "outputs": [
        {
          "output_type": "execute_result",
          "data": {
            "text/plain": [
              "Age    Sex    BP     Cholesterol  Na_to_K  Drug \n",
              "False  False  False  False        False    False    200\n",
              "dtype: int64"
            ]
          },
          "metadata": {
            "tags": []
          },
          "execution_count": 80
        }
      ]
    },
    {
      "cell_type": "code",
      "metadata": {
        "colab": {
          "base_uri": "https://localhost:8080/"
        },
        "id": "hBvYcF1CeQTR",
        "outputId": "6acb7506-5f42-4df3-9a6b-5274f7795b0a"
      },
      "source": [
        "#This is to double check to make sure there are no Null values left\n",
        "df.isnull().sum()"
      ],
      "execution_count": null,
      "outputs": [
        {
          "output_type": "execute_result",
          "data": {
            "text/plain": [
              "Age            0\n",
              "Sex            0\n",
              "BP             0\n",
              "Cholesterol    0\n",
              "Na_to_K        0\n",
              "Drug           0\n",
              "dtype: int64"
            ]
          },
          "metadata": {
            "tags": []
          },
          "execution_count": 81
        }
      ]
    },
    {
      "cell_type": "code",
      "metadata": {
        "colab": {
          "base_uri": "https://localhost:8080/"
        },
        "id": "G6ZiceXMYi81",
        "outputId": "28153d6f-cbcd-4e74-8036-c4fbe10cb1ad"
      },
      "source": [
        "df.duplicated() == True"
      ],
      "execution_count": null,
      "outputs": [
        {
          "output_type": "execute_result",
          "data": {
            "text/plain": [
              "0      False\n",
              "1      False\n",
              "2      False\n",
              "3      False\n",
              "4      False\n",
              "       ...  \n",
              "195    False\n",
              "196    False\n",
              "197    False\n",
              "198    False\n",
              "199    False\n",
              "Length: 200, dtype: bool"
            ]
          },
          "metadata": {
            "tags": []
          },
          "execution_count": 82
        }
      ]
    },
    {
      "cell_type": "code",
      "metadata": {
        "colab": {
          "base_uri": "https://localhost:8080/"
        },
        "id": "xczMgRvqoQQY",
        "outputId": "fc6bbc8a-08fa-419b-dc5c-42d5296aae60"
      },
      "source": [
        "df.nunique()"
      ],
      "execution_count": null,
      "outputs": [
        {
          "output_type": "execute_result",
          "data": {
            "text/plain": [
              "Age             57\n",
              "Sex              2\n",
              "BP               3\n",
              "Cholesterol      2\n",
              "Na_to_K        198\n",
              "Drug             5\n",
              "dtype: int64"
            ]
          },
          "metadata": {
            "tags": []
          },
          "execution_count": 83
        }
      ]
    },
    {
      "cell_type": "markdown",
      "metadata": {
        "id": "d1ebossZajCF"
      },
      "source": [
        "# Label Encoder"
      ]
    },
    {
      "cell_type": "code",
      "metadata": {
        "id": "xp9VzrkgB8rU"
      },
      "source": [
        "from sklearn.preprocessing import OneHotEncoder"
      ],
      "execution_count": null,
      "outputs": []
    },
    {
      "cell_type": "code",
      "metadata": {
        "id": "EFXdvX0nB-BI"
      },
      "source": [
        "#categorical data\n",
        "categorical_cols = ['Sex', 'BP', 'Cholesterol','Drug'] \n",
        "from sklearn.preprocessing import LabelEncoder\n",
        "# instantiate labelencoder object\n",
        "le = LabelEncoder()\n",
        "# apply le on categorical feature columns\n",
        "df[categorical_cols] = df[categorical_cols].apply(lambda col: le.fit_transform(col))"
      ],
      "execution_count": null,
      "outputs": []
    },
    {
      "cell_type": "code",
      "metadata": {
        "colab": {
          "base_uri": "https://localhost:8080/",
          "height": 419
        },
        "id": "pTXqRweLCm8z",
        "outputId": "9332505a-176c-4e01-cee1-f3fbd3f16859"
      },
      "source": [
        "df"
      ],
      "execution_count": null,
      "outputs": [
        {
          "output_type": "execute_result",
          "data": {
            "text/html": [
              "<div>\n",
              "<style scoped>\n",
              "    .dataframe tbody tr th:only-of-type {\n",
              "        vertical-align: middle;\n",
              "    }\n",
              "\n",
              "    .dataframe tbody tr th {\n",
              "        vertical-align: top;\n",
              "    }\n",
              "\n",
              "    .dataframe thead th {\n",
              "        text-align: right;\n",
              "    }\n",
              "</style>\n",
              "<table border=\"1\" class=\"dataframe\">\n",
              "  <thead>\n",
              "    <tr style=\"text-align: right;\">\n",
              "      <th></th>\n",
              "      <th>Age</th>\n",
              "      <th>Sex</th>\n",
              "      <th>BP</th>\n",
              "      <th>Cholesterol</th>\n",
              "      <th>Na_to_K</th>\n",
              "      <th>Drug</th>\n",
              "    </tr>\n",
              "  </thead>\n",
              "  <tbody>\n",
              "    <tr>\n",
              "      <th>0</th>\n",
              "      <td>23</td>\n",
              "      <td>0</td>\n",
              "      <td>0</td>\n",
              "      <td>0</td>\n",
              "      <td>25.355</td>\n",
              "      <td>4</td>\n",
              "    </tr>\n",
              "    <tr>\n",
              "      <th>1</th>\n",
              "      <td>47</td>\n",
              "      <td>1</td>\n",
              "      <td>1</td>\n",
              "      <td>0</td>\n",
              "      <td>13.093</td>\n",
              "      <td>2</td>\n",
              "    </tr>\n",
              "    <tr>\n",
              "      <th>2</th>\n",
              "      <td>47</td>\n",
              "      <td>1</td>\n",
              "      <td>1</td>\n",
              "      <td>0</td>\n",
              "      <td>10.114</td>\n",
              "      <td>2</td>\n",
              "    </tr>\n",
              "    <tr>\n",
              "      <th>3</th>\n",
              "      <td>28</td>\n",
              "      <td>0</td>\n",
              "      <td>2</td>\n",
              "      <td>0</td>\n",
              "      <td>7.798</td>\n",
              "      <td>3</td>\n",
              "    </tr>\n",
              "    <tr>\n",
              "      <th>4</th>\n",
              "      <td>61</td>\n",
              "      <td>0</td>\n",
              "      <td>1</td>\n",
              "      <td>0</td>\n",
              "      <td>18.043</td>\n",
              "      <td>4</td>\n",
              "    </tr>\n",
              "    <tr>\n",
              "      <th>...</th>\n",
              "      <td>...</td>\n",
              "      <td>...</td>\n",
              "      <td>...</td>\n",
              "      <td>...</td>\n",
              "      <td>...</td>\n",
              "      <td>...</td>\n",
              "    </tr>\n",
              "    <tr>\n",
              "      <th>195</th>\n",
              "      <td>56</td>\n",
              "      <td>0</td>\n",
              "      <td>1</td>\n",
              "      <td>0</td>\n",
              "      <td>11.567</td>\n",
              "      <td>2</td>\n",
              "    </tr>\n",
              "    <tr>\n",
              "      <th>196</th>\n",
              "      <td>16</td>\n",
              "      <td>1</td>\n",
              "      <td>1</td>\n",
              "      <td>0</td>\n",
              "      <td>12.006</td>\n",
              "      <td>2</td>\n",
              "    </tr>\n",
              "    <tr>\n",
              "      <th>197</th>\n",
              "      <td>52</td>\n",
              "      <td>1</td>\n",
              "      <td>2</td>\n",
              "      <td>0</td>\n",
              "      <td>9.894</td>\n",
              "      <td>3</td>\n",
              "    </tr>\n",
              "    <tr>\n",
              "      <th>198</th>\n",
              "      <td>23</td>\n",
              "      <td>1</td>\n",
              "      <td>2</td>\n",
              "      <td>1</td>\n",
              "      <td>14.020</td>\n",
              "      <td>3</td>\n",
              "    </tr>\n",
              "    <tr>\n",
              "      <th>199</th>\n",
              "      <td>40</td>\n",
              "      <td>0</td>\n",
              "      <td>1</td>\n",
              "      <td>1</td>\n",
              "      <td>11.349</td>\n",
              "      <td>3</td>\n",
              "    </tr>\n",
              "  </tbody>\n",
              "</table>\n",
              "<p>200 rows × 6 columns</p>\n",
              "</div>"
            ],
            "text/plain": [
              "     Age  Sex  BP  Cholesterol  Na_to_K  Drug\n",
              "0     23    0   0            0   25.355     4\n",
              "1     47    1   1            0   13.093     2\n",
              "2     47    1   1            0   10.114     2\n",
              "3     28    0   2            0    7.798     3\n",
              "4     61    0   1            0   18.043     4\n",
              "..   ...  ...  ..          ...      ...   ...\n",
              "195   56    0   1            0   11.567     2\n",
              "196   16    1   1            0   12.006     2\n",
              "197   52    1   2            0    9.894     3\n",
              "198   23    1   2            1   14.020     3\n",
              "199   40    0   1            1   11.349     3\n",
              "\n",
              "[200 rows x 6 columns]"
            ]
          },
          "metadata": {
            "tags": []
          },
          "execution_count": 86
        }
      ]
    },
    {
      "cell_type": "code",
      "metadata": {
        "colab": {
          "base_uri": "https://localhost:8080/"
        },
        "id": "hjm6XXcoYoy5",
        "outputId": "bfdeb3cb-038d-4810-e97d-decb995c637d"
      },
      "source": [
        "df.columns"
      ],
      "execution_count": null,
      "outputs": [
        {
          "output_type": "execute_result",
          "data": {
            "text/plain": [
              "Index(['Age', 'Sex', 'BP', 'Cholesterol', 'Na_to_K', 'Drug'], dtype='object')"
            ]
          },
          "metadata": {
            "tags": []
          },
          "execution_count": 87
        }
      ]
    },
    {
      "cell_type": "code",
      "metadata": {
        "id": "uTfU6gcAC1RA"
      },
      "source": [
        "X = df.loc[:, ['Age', 'Sex', 'BP', 'Cholesterol', 'Na_to_K']]\n",
        "y = df['Drug']"
      ],
      "execution_count": null,
      "outputs": []
    },
    {
      "cell_type": "code",
      "metadata": {
        "colab": {
          "base_uri": "https://localhost:8080/"
        },
        "id": "vZR61kt2Df43",
        "outputId": "7db6ff4a-94d5-448d-e4ce-bbdfe6656744"
      },
      "source": [
        "X.shape"
      ],
      "execution_count": null,
      "outputs": [
        {
          "output_type": "execute_result",
          "data": {
            "text/plain": [
              "(200, 5)"
            ]
          },
          "metadata": {
            "tags": []
          },
          "execution_count": 89
        }
      ]
    },
    {
      "cell_type": "code",
      "metadata": {
        "colab": {
          "base_uri": "https://localhost:8080/"
        },
        "id": "fNPLOIrbDh_-",
        "outputId": "8a5d326c-44a5-4f9f-fe47-21517cca15bb"
      },
      "source": [
        "y.shape"
      ],
      "execution_count": null,
      "outputs": [
        {
          "output_type": "execute_result",
          "data": {
            "text/plain": [
              "(200,)"
            ]
          },
          "metadata": {
            "tags": []
          },
          "execution_count": 90
        }
      ]
    },
    {
      "cell_type": "code",
      "metadata": {
        "id": "6ZyiddiREGMW"
      },
      "source": [
        "#Splitting into Training set and Test set\n",
        "from sklearn.model_selection import train_test_split\n",
        "X_train, X_test, y_train, y_test = train_test_split(X, y, test_size = 0.2, random_state = 42)"
      ],
      "execution_count": null,
      "outputs": []
    },
    {
      "cell_type": "code",
      "metadata": {
        "id": "vW1wP0U_EHqr"
      },
      "source": [
        "# Importing the Keras libraries and packages\n",
        "import keras\n",
        "from keras.models import Sequential\n",
        "from keras.layers import Dense"
      ],
      "execution_count": null,
      "outputs": []
    },
    {
      "cell_type": "code",
      "metadata": {
        "id": "pN5bE5MZEK_Y"
      },
      "source": [
        "from sklearn import metrics\n",
        "from sklearn.model_selection import cross_val_score\n",
        "\n",
        "def cross_val(model):\n",
        "    pred = cross_val_score(model, X, y, cv=10)\n",
        "    return pred.mean()\n",
        "\n",
        "def print_evaluate(true, predicted):  \n",
        "    mae = metrics.mean_absolute_error(true, predicted)\n",
        "    mse = metrics.mean_squared_error(true, predicted)\n",
        "    rmse = np.sqrt(metrics.mean_squared_error(true, predicted))\n",
        "    r2_square = metrics.r2_score(true, predicted)\n",
        "    print('MAE:', mae)\n",
        "    print('MSE:', mse)\n",
        "    print('RMSE:', rmse)\n",
        "    print('R2 Square', r2_square)\n",
        "    \n",
        "def evaluate(true, predicted):\n",
        "    mae = metrics.mean_absolute_error(true, predicted)\n",
        "    mse = metrics.mean_squared_error(true, predicted)\n",
        "    rmse = np.sqrt(metrics.mean_squared_error(true, predicted))\n",
        "    r2_square = metrics.r2_score(true, predicted)\n",
        "    return mae, mse, rmse, r2_square\n"
      ],
      "execution_count": null,
      "outputs": []
    },
    {
      "cell_type": "code",
      "metadata": {
        "id": "9CfR-E5fcYo6"
      },
      "source": [
        "scaler = StandardScaler()\n",
        "# Fit on training set only.\n",
        "scaler.fit(X_train)\n",
        "# Apply transform to both the training set and the test set.\n",
        "X_train = scaler.transform(X_train)\n",
        "X_test = scaler.transform(X_test)"
      ],
      "execution_count": null,
      "outputs": []
    },
    {
      "cell_type": "code",
      "metadata": {
        "id": "cDD5e6G3E8o4"
      },
      "source": [
        "from sklearn.preprocessing import StandardScaler\n",
        "from sklearn.pipeline import Pipeline\n",
        "\n",
        "pipeline = Pipeline([\n",
        "    ('std_scalar', StandardScaler())\n",
        "])\n",
        "\n",
        "X_train = pipeline.fit_transform(X_train)\n",
        "X_test = pipeline.transform(X_test)"
      ],
      "execution_count": null,
      "outputs": []
    },
    {
      "cell_type": "markdown",
      "metadata": {
        "id": "nN8XA1sjaH6f"
      },
      "source": [
        "# Linear Regress"
      ]
    },
    {
      "cell_type": "code",
      "metadata": {
        "colab": {
          "base_uri": "https://localhost:8080/"
        },
        "id": "IeFwX1ozE-m0",
        "outputId": "1ad6f7ed-40aa-4042-bd50-bd054a1a34e3"
      },
      "source": [
        "from sklearn.linear_model import LinearRegression\n",
        "\n",
        "lin_reg = LinearRegression(normalize=True, fit_intercept=True, )\n",
        "lin_reg.fit(X_train,y_train)"
      ],
      "execution_count": null,
      "outputs": [
        {
          "output_type": "execute_result",
          "data": {
            "text/plain": [
              "LinearRegression(copy_X=True, fit_intercept=True, n_jobs=None, normalize=True)"
            ]
          },
          "metadata": {
            "tags": []
          },
          "execution_count": 96
        }
      ]
    },
    {
      "cell_type": "code",
      "metadata": {
        "colab": {
          "base_uri": "https://localhost:8080/"
        },
        "id": "ibPQumyYFC6O",
        "outputId": "502fedc1-2f6b-4ef7-d25e-260482464c47"
      },
      "source": [
        "# print the intercept\n",
        "print(lin_reg.intercept_)"
      ],
      "execution_count": null,
      "outputs": [
        {
          "output_type": "stream",
          "text": [
            "2.925\n"
          ],
          "name": "stdout"
        }
      ]
    },
    {
      "cell_type": "code",
      "metadata": {
        "colab": {
          "base_uri": "https://localhost:8080/",
          "height": 204
        },
        "id": "7_8_tHriFGZ-",
        "outputId": "b0bccce0-7dd6-4e1d-fad3-57debb26efa5"
      },
      "source": [
        "coeff_df = pd.DataFrame(lin_reg.coef_, X.columns, columns=['Coefficient'])\n",
        "coeff_df"
      ],
      "execution_count": null,
      "outputs": [
        {
          "output_type": "execute_result",
          "data": {
            "text/html": [
              "<div>\n",
              "<style scoped>\n",
              "    .dataframe tbody tr th:only-of-type {\n",
              "        vertical-align: middle;\n",
              "    }\n",
              "\n",
              "    .dataframe tbody tr th {\n",
              "        vertical-align: top;\n",
              "    }\n",
              "\n",
              "    .dataframe thead th {\n",
              "        text-align: right;\n",
              "    }\n",
              "</style>\n",
              "<table border=\"1\" class=\"dataframe\">\n",
              "  <thead>\n",
              "    <tr style=\"text-align: right;\">\n",
              "      <th></th>\n",
              "      <th>Coefficient</th>\n",
              "    </tr>\n",
              "  </thead>\n",
              "  <tbody>\n",
              "    <tr>\n",
              "      <th>Age</th>\n",
              "      <td>0.052757</td>\n",
              "    </tr>\n",
              "    <tr>\n",
              "      <th>Sex</th>\n",
              "      <td>-0.049667</td>\n",
              "    </tr>\n",
              "    <tr>\n",
              "      <th>BP</th>\n",
              "      <td>0.658549</td>\n",
              "    </tr>\n",
              "    <tr>\n",
              "      <th>Cholesterol</th>\n",
              "      <td>0.135133</td>\n",
              "    </tr>\n",
              "    <tr>\n",
              "      <th>Na_to_K</th>\n",
              "      <td>0.908318</td>\n",
              "    </tr>\n",
              "  </tbody>\n",
              "</table>\n",
              "</div>"
            ],
            "text/plain": [
              "             Coefficient\n",
              "Age             0.052757\n",
              "Sex            -0.049667\n",
              "BP              0.658549\n",
              "Cholesterol     0.135133\n",
              "Na_to_K         0.908318"
            ]
          },
          "metadata": {
            "tags": []
          },
          "execution_count": 98
        }
      ]
    },
    {
      "cell_type": "code",
      "metadata": {
        "id": "i72MeFMsFOyP"
      },
      "source": [
        "pred = lin_reg.predict(X_test)"
      ],
      "execution_count": null,
      "outputs": []
    },
    {
      "cell_type": "code",
      "metadata": {
        "colab": {
          "base_uri": "https://localhost:8080/"
        },
        "id": "wDBDxeJbaUuk",
        "outputId": "4d1572a6-59c0-47f6-a10e-19c52ecf6339"
      },
      "source": [
        "lin_reg.score(X_train,y_train)"
      ],
      "execution_count": null,
      "outputs": [
        {
          "output_type": "execute_result",
          "data": {
            "text/plain": [
              "0.5751422282613415"
            ]
          },
          "metadata": {
            "tags": []
          },
          "execution_count": 100
        }
      ]
    },
    {
      "cell_type": "code",
      "metadata": {
        "colab": {
          "base_uri": "https://localhost:8080/"
        },
        "id": "luVOxSu-acBT",
        "outputId": "2cb85905-c4ca-4e48-da3b-6bacc2116ec9"
      },
      "source": [
        "lin_reg.score(X_test,y_test)"
      ],
      "execution_count": null,
      "outputs": [
        {
          "output_type": "execute_result",
          "data": {
            "text/plain": [
              "0.5672591194358907"
            ]
          },
          "metadata": {
            "tags": []
          },
          "execution_count": 101
        }
      ]
    },
    {
      "cell_type": "code",
      "metadata": {
        "colab": {
          "base_uri": "https://localhost:8080/",
          "height": 299
        },
        "id": "7aCd-mLIFRWW",
        "outputId": "7c83e9f2-9755-435f-c196-b746ef1f79e9"
      },
      "source": [
        "plt.scatter(y_test, pred)"
      ],
      "execution_count": null,
      "outputs": [
        {
          "output_type": "execute_result",
          "data": {
            "text/plain": [
              "<matplotlib.collections.PathCollection at 0x7f3b0dc77d10>"
            ]
          },
          "metadata": {
            "tags": []
          },
          "execution_count": 102
        },
        {
          "output_type": "display_data",
          "data": {
            "image/png": "[encoded data removed]",
            "text/plain": [
              "<Figure size 432x288 with 1 Axes>"
            ]
          },
          "metadata": {
            "tags": []
          }
        }
      ]
    },
    {
      "cell_type": "code",
      "metadata": {
        "colab": {
          "base_uri": "https://localhost:8080/",
          "height": 358
        },
        "id": "1Qt89XZdFUuX",
        "outputId": "e0999dea-2bcf-4c1f-8552-da34ee9042f9"
      },
      "source": [
        "sns.distplot((y_test - pred), bins=58);"
      ],
      "execution_count": null,
      "outputs": [
        {
          "output_type": "stream",
          "text": [
            "/usr/local/lib/python3.7/dist-packages/seaborn/distributions.py:2557: FutureWarning: `distplot` is a deprecated function and will be removed in a future version. Please adapt your code to use either `displot` (a figure-level function with similar flexibility) or `histplot` (an axes-level function for histograms).\n",
            "  warnings.warn(msg, FutureWarning)\n"
          ],
          "name": "stderr"
        },
        {
          "output_type": "display_data",
          "data": {
            "image/png": "[encoded data removed]",
            "text/plain": [
              "<Figure size 432x288 with 1 Axes>"
            ]
          },
          "metadata": {
            "tags": []
          }
        }
      ]
    },
    {
      "cell_type": "code",
      "metadata": {
        "colab": {
          "base_uri": "https://localhost:8080/"
        },
        "id": "NMqfxNkYFhXk",
        "outputId": "2411ad52-0130-4014-aaa9-15054eea2a55"
      },
      "source": [
        "test_pred = lin_reg.predict(X_test)\n",
        "train_pred = lin_reg.predict(X_train)\n",
        "\n",
        "print('Test set evaluation:\\n_____________________________________')\n",
        "print_evaluate(y_test, test_pred)\n",
        "print('====================================')\n",
        "print('Train set evaluation:\\n_____________________________________')\n",
        "print_evaluate(y_train, train_pred)"
      ],
      "execution_count": null,
      "outputs": [
        {
          "output_type": "stream",
          "text": [
            "Test set evaluation:\n",
            "_____________________________________\n",
            "MAE: 0.7476745840192895\n",
            "MSE: 0.8773821353437314\n",
            "RMSE: 0.9366867861477131\n",
            "R2 Square 0.5672591194358907\n",
            "====================================\n",
            "Train set evaluation:\n",
            "_____________________________________\n",
            "MAE: 0.7019831738278622\n",
            "MSE: 0.7729756084570217\n",
            "RMSE: 0.8791903141283016\n",
            "R2 Square 0.5751422282613415\n"
          ],
          "name": "stdout"
        }
      ]
    },
    {
      "cell_type": "code",
      "metadata": {
        "colab": {
          "base_uri": "https://localhost:8080/",
          "height": 80
        },
        "id": "Aqu8l8hZFojU",
        "outputId": "1dffb2de-f8c4-4a0f-b138-e86651f65c88"
      },
      "source": [
        "results_df = pd.DataFrame(data=[[\"Linear Regression\", *evaluate(y_test, test_pred) , cross_val(LinearRegression())]], \n",
        "                          columns=['Model', 'MAE', 'MSE', 'RMSE', 'R2 Square', \"Cross Validation\"])\n",
        "results_df"
      ],
      "execution_count": null,
      "outputs": [
        {
          "output_type": "execute_result",
          "data": {
            "text/html": [
              "<div>\n",
              "<style scoped>\n",
              "    .dataframe tbody tr th:only-of-type {\n",
              "        vertical-align: middle;\n",
              "    }\n",
              "\n",
              "    .dataframe tbody tr th {\n",
              "        vertical-align: top;\n",
              "    }\n",
              "\n",
              "    .dataframe thead th {\n",
              "        text-align: right;\n",
              "    }\n",
              "</style>\n",
              "<table border=\"1\" class=\"dataframe\">\n",
              "  <thead>\n",
              "    <tr style=\"text-align: right;\">\n",
              "      <th></th>\n",
              "      <th>Model</th>\n",
              "      <th>MAE</th>\n",
              "      <th>MSE</th>\n",
              "      <th>RMSE</th>\n",
              "      <th>R2 Square</th>\n",
              "      <th>Cross Validation</th>\n",
              "    </tr>\n",
              "  </thead>\n",
              "  <tbody>\n",
              "    <tr>\n",
              "      <th>0</th>\n",
              "      <td>Linear Regression</td>\n",
              "      <td>0.747675</td>\n",
              "      <td>0.877382</td>\n",
              "      <td>0.936687</td>\n",
              "      <td>0.567259</td>\n",
              "      <td>0.509614</td>\n",
              "    </tr>\n",
              "  </tbody>\n",
              "</table>\n",
              "</div>"
            ],
            "text/plain": [
              "               Model       MAE       MSE      RMSE  R2 Square  Cross Validation\n",
              "0  Linear Regression  0.747675  0.877382  0.936687   0.567259          0.509614"
            ]
          },
          "metadata": {
            "tags": []
          },
          "execution_count": 105
        }
      ]
    },
    {
      "cell_type": "markdown",
      "metadata": {
        "id": "a_uUm5VyF1zZ"
      },
      "source": [
        "# Next ro"
      ]
    },
    {
      "cell_type": "code",
      "metadata": {
        "colab": {
          "base_uri": "https://localhost:8080/"
        },
        "id": "A7FHlEe9F37U",
        "outputId": "0d9404bd-c56e-44bb-c3ae-5560925a75cb"
      },
      "source": [
        "from sklearn.linear_model import RANSACRegressor\n",
        "\n",
        "model = RANSACRegressor(base_estimator=LinearRegression(), max_trials=100)\n",
        "model.fit(X_train, y_train)\n",
        "\n",
        "test_pred = model.predict(X_test)\n",
        "train_pred = model.predict(X_train)\n",
        "\n",
        "print('Test set evaluation:\\n_____________________________________')\n",
        "print_evaluate(y_test, test_pred)\n",
        "print('====================================')\n",
        "print('Train set evaluation:\\n_____________________________________')\n",
        "print_evaluate(y_train, train_pred)"
      ],
      "execution_count": null,
      "outputs": [
        {
          "output_type": "stream",
          "text": [
            "Test set evaluation:\n",
            "_____________________________________\n",
            "MAE: 1.0479792946452755\n",
            "MSE: 2.7073166609293438\n",
            "RMSE: 1.6453925552673878\n",
            "R2 Square -0.33529798319573056\n",
            "====================================\n",
            "Train set evaluation:\n",
            "_____________________________________\n",
            "MAE: 0.8867025577871332\n",
            "MSE: 2.0821537082804884\n",
            "RMSE: 1.4429669810083974\n",
            "R2 Square -0.1444335050665686\n"
          ],
          "name": "stdout"
        }
      ]
    },
    {
      "cell_type": "code",
      "metadata": {
        "colab": {
          "base_uri": "https://localhost:8080/",
          "height": 111
        },
        "id": "WjPFmgsdF5ld",
        "outputId": "44f49541-b99c-41d7-a88a-eb66a94e3a86"
      },
      "source": [
        "results_df_2 = pd.DataFrame(data=[[\"Robust Regression\", *evaluate(y_test, test_pred) , cross_val(RANSACRegressor())]], \n",
        "                            columns=['Model', 'MAE', 'MSE', 'RMSE', 'R2 Square', \"Cross Validation\"])\n",
        "results_df = results_df.append(results_df_2, ignore_index=True)\n",
        "results_df"
      ],
      "execution_count": null,
      "outputs": [
        {
          "output_type": "execute_result",
          "data": {
            "text/html": [
              "<div>\n",
              "<style scoped>\n",
              "    .dataframe tbody tr th:only-of-type {\n",
              "        vertical-align: middle;\n",
              "    }\n",
              "\n",
              "    .dataframe tbody tr th {\n",
              "        vertical-align: top;\n",
              "    }\n",
              "\n",
              "    .dataframe thead th {\n",
              "        text-align: right;\n",
              "    }\n",
              "</style>\n",
              "<table border=\"1\" class=\"dataframe\">\n",
              "  <thead>\n",
              "    <tr style=\"text-align: right;\">\n",
              "      <th></th>\n",
              "      <th>Model</th>\n",
              "      <th>MAE</th>\n",
              "      <th>MSE</th>\n",
              "      <th>RMSE</th>\n",
              "      <th>R2 Square</th>\n",
              "      <th>Cross Validation</th>\n",
              "    </tr>\n",
              "  </thead>\n",
              "  <tbody>\n",
              "    <tr>\n",
              "      <th>0</th>\n",
              "      <td>Linear Regression</td>\n",
              "      <td>0.747675</td>\n",
              "      <td>0.877382</td>\n",
              "      <td>0.936687</td>\n",
              "      <td>0.567259</td>\n",
              "      <td>0.509614</td>\n",
              "    </tr>\n",
              "    <tr>\n",
              "      <th>1</th>\n",
              "      <td>Robust Regression</td>\n",
              "      <td>1.047979</td>\n",
              "      <td>2.707317</td>\n",
              "      <td>1.645393</td>\n",
              "      <td>-0.335298</td>\n",
              "      <td>-0.163998</td>\n",
              "    </tr>\n",
              "  </tbody>\n",
              "</table>\n",
              "</div>"
            ],
            "text/plain": [
              "               Model       MAE       MSE      RMSE  R2 Square  Cross Validation\n",
              "0  Linear Regression  0.747675  0.877382  0.936687   0.567259          0.509614\n",
              "1  Robust Regression  1.047979  2.707317  1.645393  -0.335298         -0.163998"
            ]
          },
          "metadata": {
            "tags": []
          },
          "execution_count": 107
        }
      ]
    },
    {
      "cell_type": "markdown",
      "metadata": {
        "id": "zMVC15N_F-5H"
      },
      "source": [
        "# Ridge regress"
      ]
    },
    {
      "cell_type": "code",
      "metadata": {
        "colab": {
          "base_uri": "https://localhost:8080/"
        },
        "id": "FEpm-oTwF-Tc",
        "outputId": "6cc0830b-bec1-418e-971d-a6483f5bc8c4"
      },
      "source": [
        "from sklearn.linear_model import Ridge\n",
        "\n",
        "model = Ridge(alpha=100, solver='cholesky', tol=0.0001, random_state=42)\n",
        "model.fit(X_train, y_train)\n",
        "pred = model.predict(X_test)\n",
        "\n",
        "test_pred = model.predict(X_test)\n",
        "train_pred = model.predict(X_train)\n",
        "\n",
        "print('Test set evaluation:\\n_____________________________________')\n",
        "print_evaluate(y_test, test_pred)\n",
        "print('====================================')\n",
        "print('Train set evaluation:\\n_____________________________________')\n",
        "print_evaluate(y_train, train_pred)"
      ],
      "execution_count": null,
      "outputs": [
        {
          "output_type": "stream",
          "text": [
            "Test set evaluation:\n",
            "_____________________________________\n",
            "MAE: 0.8106670980640274\n",
            "MSE: 1.1568765615704844\n",
            "RMSE: 1.075581964134061\n",
            "R2 Square 0.4294073679060496\n",
            "====================================\n",
            "Train set evaluation:\n",
            "_____________________________________\n",
            "MAE: 0.7513247504419468\n",
            "MSE: 0.968417120027674\n",
            "RMSE: 0.9840818665272082\n",
            "R2 Square 0.46771989280512594\n"
          ],
          "name": "stdout"
        }
      ]
    },
    {
      "cell_type": "code",
      "metadata": {
        "colab": {
          "base_uri": "https://localhost:8080/",
          "height": 142
        },
        "id": "yyIblXeiGGw2",
        "outputId": "c5739479-2a48-4893-cbcd-788d85a579fe"
      },
      "source": [
        "results_df_2 = pd.DataFrame(data=[[\"Ridge Regression\", *evaluate(y_test, test_pred) , cross_val(Ridge())]], \n",
        "                            columns=['Model', 'MAE', 'MSE', 'RMSE', 'R2 Square', \"Cross Validation\"])\n",
        "results_df = results_df.append(results_df_2, ignore_index=True)\n",
        "results_df"
      ],
      "execution_count": null,
      "outputs": [
        {
          "output_type": "execute_result",
          "data": {
            "text/html": [
              "<div>\n",
              "<style scoped>\n",
              "    .dataframe tbody tr th:only-of-type {\n",
              "        vertical-align: middle;\n",
              "    }\n",
              "\n",
              "    .dataframe tbody tr th {\n",
              "        vertical-align: top;\n",
              "    }\n",
              "\n",
              "    .dataframe thead th {\n",
              "        text-align: right;\n",
              "    }\n",
              "</style>\n",
              "<table border=\"1\" class=\"dataframe\">\n",
              "  <thead>\n",
              "    <tr style=\"text-align: right;\">\n",
              "      <th></th>\n",
              "      <th>Model</th>\n",
              "      <th>MAE</th>\n",
              "      <th>MSE</th>\n",
              "      <th>RMSE</th>\n",
              "      <th>R2 Square</th>\n",
              "      <th>Cross Validation</th>\n",
              "    </tr>\n",
              "  </thead>\n",
              "  <tbody>\n",
              "    <tr>\n",
              "      <th>0</th>\n",
              "      <td>Linear Regression</td>\n",
              "      <td>0.747675</td>\n",
              "      <td>0.877382</td>\n",
              "      <td>0.936687</td>\n",
              "      <td>0.567259</td>\n",
              "      <td>0.509614</td>\n",
              "    </tr>\n",
              "    <tr>\n",
              "      <th>1</th>\n",
              "      <td>Robust Regression</td>\n",
              "      <td>1.047979</td>\n",
              "      <td>2.707317</td>\n",
              "      <td>1.645393</td>\n",
              "      <td>-0.335298</td>\n",
              "      <td>-0.163998</td>\n",
              "    </tr>\n",
              "    <tr>\n",
              "      <th>2</th>\n",
              "      <td>Ridge Regression</td>\n",
              "      <td>0.810667</td>\n",
              "      <td>1.156877</td>\n",
              "      <td>1.075582</td>\n",
              "      <td>0.429407</td>\n",
              "      <td>0.510120</td>\n",
              "    </tr>\n",
              "  </tbody>\n",
              "</table>\n",
              "</div>"
            ],
            "text/plain": [
              "               Model       MAE       MSE      RMSE  R2 Square  Cross Validation\n",
              "0  Linear Regression  0.747675  0.877382  0.936687   0.567259          0.509614\n",
              "1  Robust Regression  1.047979  2.707317  1.645393  -0.335298         -0.163998\n",
              "2   Ridge Regression  0.810667  1.156877  1.075582   0.429407          0.510120"
            ]
          },
          "metadata": {
            "tags": []
          },
          "execution_count": 109
        }
      ]
    },
    {
      "cell_type": "markdown",
      "metadata": {
        "id": "EEn5GySQGLWC"
      },
      "source": [
        "# lasso regress"
      ]
    },
    {
      "cell_type": "code",
      "metadata": {
        "colab": {
          "base_uri": "https://localhost:8080/"
        },
        "id": "4DIZEHn5GNkX",
        "outputId": "d292b928-7fa5-48a7-f337-eec8cf37edc4"
      },
      "source": [
        "from sklearn.linear_model import Lasso\n",
        "\n",
        "model = Lasso(alpha=0.1, \n",
        "              precompute=True, \n",
        "#               warm_start=True, \n",
        "              positive=True, \n",
        "              selection='random',\n",
        "              random_state=42)\n",
        "model.fit(X_train, y_train)\n",
        "\n",
        "test_pred = model.predict(X_test)\n",
        "train_pred = model.predict(X_train)\n",
        "\n",
        "print('Test set evaluation:\\n_____________________________________')\n",
        "print_evaluate(y_test, test_pred)\n",
        "print('====================================')\n",
        "print('Train set evaluation:\\n_____________________________________')\n",
        "print_evaluate(y_train, train_pred)"
      ],
      "execution_count": null,
      "outputs": [
        {
          "output_type": "stream",
          "text": [
            "Test set evaluation:\n",
            "_____________________________________\n",
            "MAE: 0.779502164593857\n",
            "MSE: 0.9520906559647054\n",
            "RMSE: 0.9757513289587185\n",
            "R2 Square 0.5304115137042142\n",
            "====================================\n",
            "Train set evaluation:\n",
            "_____________________________________\n",
            "MAE: 0.7201727834008138\n",
            "MSE: 0.8179088689982056\n",
            "RMSE: 0.9043831428096201\n",
            "R2 Square 0.5504451424262697\n"
          ],
          "name": "stdout"
        }
      ]
    },
    {
      "cell_type": "code",
      "metadata": {
        "colab": {
          "base_uri": "https://localhost:8080/",
          "height": 173
        },
        "id": "6FBfg0EeGJbD",
        "outputId": "1f936a83-9cf3-4066-be6e-dd8229616571"
      },
      "source": [
        "results_df_2 = pd.DataFrame(data=[[\"Lasso Regression\", *evaluate(y_test, test_pred) , cross_val(Lasso())]], \n",
        "                            columns=['Model', 'MAE', 'MSE', 'RMSE', 'R2 Square', \"Cross Validation\"])\n",
        "results_df = results_df.append(results_df_2, ignore_index=True)\n",
        "results_df"
      ],
      "execution_count": null,
      "outputs": [
        {
          "output_type": "execute_result",
          "data": {
            "text/html": [
              "<div>\n",
              "<style scoped>\n",
              "    .dataframe tbody tr th:only-of-type {\n",
              "        vertical-align: middle;\n",
              "    }\n",
              "\n",
              "    .dataframe tbody tr th {\n",
              "        vertical-align: top;\n",
              "    }\n",
              "\n",
              "    .dataframe thead th {\n",
              "        text-align: right;\n",
              "    }\n",
              "</style>\n",
              "<table border=\"1\" class=\"dataframe\">\n",
              "  <thead>\n",
              "    <tr style=\"text-align: right;\">\n",
              "      <th></th>\n",
              "      <th>Model</th>\n",
              "      <th>MAE</th>\n",
              "      <th>MSE</th>\n",
              "      <th>RMSE</th>\n",
              "      <th>R2 Square</th>\n",
              "      <th>Cross Validation</th>\n",
              "    </tr>\n",
              "  </thead>\n",
              "  <tbody>\n",
              "    <tr>\n",
              "      <th>0</th>\n",
              "      <td>Linear Regression</td>\n",
              "      <td>0.747675</td>\n",
              "      <td>0.877382</td>\n",
              "      <td>0.936687</td>\n",
              "      <td>0.567259</td>\n",
              "      <td>0.509614</td>\n",
              "    </tr>\n",
              "    <tr>\n",
              "      <th>1</th>\n",
              "      <td>Robust Regression</td>\n",
              "      <td>1.047979</td>\n",
              "      <td>2.707317</td>\n",
              "      <td>1.645393</td>\n",
              "      <td>-0.335298</td>\n",
              "      <td>-0.163998</td>\n",
              "    </tr>\n",
              "    <tr>\n",
              "      <th>2</th>\n",
              "      <td>Ridge Regression</td>\n",
              "      <td>0.810667</td>\n",
              "      <td>1.156877</td>\n",
              "      <td>1.075582</td>\n",
              "      <td>0.429407</td>\n",
              "      <td>0.510120</td>\n",
              "    </tr>\n",
              "    <tr>\n",
              "      <th>3</th>\n",
              "      <td>Lasso Regression</td>\n",
              "      <td>0.779502</td>\n",
              "      <td>0.952091</td>\n",
              "      <td>0.975751</td>\n",
              "      <td>0.530412</td>\n",
              "      <td>0.285220</td>\n",
              "    </tr>\n",
              "  </tbody>\n",
              "</table>\n",
              "</div>"
            ],
            "text/plain": [
              "               Model       MAE       MSE      RMSE  R2 Square  Cross Validation\n",
              "0  Linear Regression  0.747675  0.877382  0.936687   0.567259          0.509614\n",
              "1  Robust Regression  1.047979  2.707317  1.645393  -0.335298         -0.163998\n",
              "2   Ridge Regression  0.810667  1.156877  1.075582   0.429407          0.510120\n",
              "3   Lasso Regression  0.779502  0.952091  0.975751   0.530412          0.285220"
            ]
          },
          "metadata": {
            "tags": []
          },
          "execution_count": 111
        }
      ]
    },
    {
      "cell_type": "markdown",
      "metadata": {
        "id": "1MNG-5uXGYaj"
      },
      "source": [
        "# Elastic net"
      ]
    },
    {
      "cell_type": "code",
      "metadata": {
        "colab": {
          "base_uri": "https://localhost:8080/"
        },
        "id": "HcRwhF-zGWkA",
        "outputId": "df4aeea1-d8eb-4346-f664-f27aec888e31"
      },
      "source": [
        "from sklearn.linear_model import ElasticNet\n",
        "\n",
        "model = ElasticNet(alpha=0.1, l1_ratio=0.9, selection='random', random_state=42)\n",
        "model.fit(X_train, y_train)\n",
        "\n",
        "test_pred = model.predict(X_test)\n",
        "train_pred = model.predict(X_train)\n",
        "\n",
        "print('Test set evaluation:\\n_____________________________________')\n",
        "print_evaluate(y_test, test_pred)\n",
        "print('====================================')\n",
        "print('Train set evaluation:\\n_____________________________________')\n",
        "print_evaluate(y_train, train_pred)"
      ],
      "execution_count": null,
      "outputs": [
        {
          "output_type": "stream",
          "text": [
            "Test set evaluation:\n",
            "_____________________________________\n",
            "MAE: 0.7750614794420263\n",
            "MSE: 0.942851993458777\n",
            "RMSE: 0.9710056608788524\n",
            "R2 Square 0.5349681906491852\n",
            "====================================\n",
            "Train set evaluation:\n",
            "_____________________________________\n",
            "MAE: 0.718032093667339\n",
            "MSE: 0.813613325937899\n",
            "RMSE: 0.9020051695738218\n",
            "R2 Square 0.5528061417036625\n"
          ],
          "name": "stdout"
        }
      ]
    },
    {
      "cell_type": "code",
      "metadata": {
        "colab": {
          "base_uri": "https://localhost:8080/",
          "height": 204
        },
        "id": "IkKoryQrGm9P",
        "outputId": "5d1b86c8-17e9-4057-e7ac-325f5b22579e"
      },
      "source": [
        "results_df_2 = pd.DataFrame(data=[[\"Elastic Net Regression\", *evaluate(y_test, test_pred) , cross_val(ElasticNet())]], \n",
        "                            columns=['Model', 'MAE', 'MSE', 'RMSE', 'R2 Square', \"Cross Validation\"])\n",
        "results_df = results_df.append(results_df_2, ignore_index=True)\n",
        "results_df"
      ],
      "execution_count": null,
      "outputs": [
        {
          "output_type": "execute_result",
          "data": {
            "text/html": [
              "<div>\n",
              "<style scoped>\n",
              "    .dataframe tbody tr th:only-of-type {\n",
              "        vertical-align: middle;\n",
              "    }\n",
              "\n",
              "    .dataframe tbody tr th {\n",
              "        vertical-align: top;\n",
              "    }\n",
              "\n",
              "    .dataframe thead th {\n",
              "        text-align: right;\n",
              "    }\n",
              "</style>\n",
              "<table border=\"1\" class=\"dataframe\">\n",
              "  <thead>\n",
              "    <tr style=\"text-align: right;\">\n",
              "      <th></th>\n",
              "      <th>Model</th>\n",
              "      <th>MAE</th>\n",
              "      <th>MSE</th>\n",
              "      <th>RMSE</th>\n",
              "      <th>R2 Square</th>\n",
              "      <th>Cross Validation</th>\n",
              "    </tr>\n",
              "  </thead>\n",
              "  <tbody>\n",
              "    <tr>\n",
              "      <th>0</th>\n",
              "      <td>Linear Regression</td>\n",
              "      <td>0.747675</td>\n",
              "      <td>0.877382</td>\n",
              "      <td>0.936687</td>\n",
              "      <td>0.567259</td>\n",
              "      <td>0.509614</td>\n",
              "    </tr>\n",
              "    <tr>\n",
              "      <th>1</th>\n",
              "      <td>Robust Regression</td>\n",
              "      <td>1.047979</td>\n",
              "      <td>2.707317</td>\n",
              "      <td>1.645393</td>\n",
              "      <td>-0.335298</td>\n",
              "      <td>-0.163998</td>\n",
              "    </tr>\n",
              "    <tr>\n",
              "      <th>2</th>\n",
              "      <td>Ridge Regression</td>\n",
              "      <td>0.810667</td>\n",
              "      <td>1.156877</td>\n",
              "      <td>1.075582</td>\n",
              "      <td>0.429407</td>\n",
              "      <td>0.510120</td>\n",
              "    </tr>\n",
              "    <tr>\n",
              "      <th>3</th>\n",
              "      <td>Lasso Regression</td>\n",
              "      <td>0.779502</td>\n",
              "      <td>0.952091</td>\n",
              "      <td>0.975751</td>\n",
              "      <td>0.530412</td>\n",
              "      <td>0.285220</td>\n",
              "    </tr>\n",
              "    <tr>\n",
              "      <th>4</th>\n",
              "      <td>Elastic Net Regression</td>\n",
              "      <td>0.775061</td>\n",
              "      <td>0.942852</td>\n",
              "      <td>0.971006</td>\n",
              "      <td>0.534968</td>\n",
              "      <td>0.293492</td>\n",
              "    </tr>\n",
              "  </tbody>\n",
              "</table>\n",
              "</div>"
            ],
            "text/plain": [
              "                    Model       MAE  ...  R2 Square  Cross Validation\n",
              "0       Linear Regression  0.747675  ...   0.567259          0.509614\n",
              "1       Robust Regression  1.047979  ...  -0.335298         -0.163998\n",
              "2        Ridge Regression  0.810667  ...   0.429407          0.510120\n",
              "3        Lasso Regression  0.779502  ...   0.530412          0.285220\n",
              "4  Elastic Net Regression  0.775061  ...   0.534968          0.293492\n",
              "\n",
              "[5 rows x 6 columns]"
            ]
          },
          "metadata": {
            "tags": []
          },
          "execution_count": 113
        }
      ]
    },
    {
      "cell_type": "markdown",
      "metadata": {
        "id": "zOzckT-mG8G4"
      },
      "source": [
        "# Tensor"
      ]
    },
    {
      "cell_type": "code",
      "metadata": {
        "colab": {
          "base_uri": "https://localhost:8080/"
        },
        "id": "53s6gZa8G96n",
        "outputId": "0f4b0f1f-c1b3-4555-9b88-250658c931a2"
      },
      "source": [
        "from tensorflow.keras.models import Sequential\n",
        "from tensorflow.keras.layers import Input, Dense, Activation, Dropout\n",
        "from tensorflow.keras.optimizers import Adam\n",
        "\n",
        "X_train = np.array(X_train)\n",
        "X_test = np.array(X_test)\n",
        "y_train = np.array(y_train)\n",
        "y_test = np.array(y_test)\n",
        "\n",
        "model = Sequential()\n",
        "\n",
        "model.add(Dense(X_train.shape[1], activation='relu'))\n",
        "model.add(Dense(32, activation='relu'))\n",
        "# model.add(Dropout(0.2))\n",
        "\n",
        "model.add(Dense(64, activation='relu'))\n",
        "# model.add(Dropout(0.2))\n",
        "\n",
        "model.add(Dense(128, activation='relu'))\n",
        "# model.add(Dropout(0.2))\n",
        "\n",
        "model.add(Dense(512, activation='relu'))\n",
        "model.add(Dropout(0.1))\n",
        "model.add(Dense(1))\n",
        "\n",
        "model.compile(optimizer=Adam(0.00001), loss='mse')\n",
        "\n",
        "r = model.fit(X_train, y_train,\n",
        "              validation_data=(X_test,y_test),\n",
        "              batch_size=1,\n",
        "              epochs=200)"
      ],
      "execution_count": null,
      "outputs": [
        {
          "output_type": "stream",
          "text": [
            "Epoch 1/200\n",
            "160/160 [==============================] - 1s 3ms/step - loss: 9.9878 - val_loss: 8.4329\n",
            "Epoch 2/200\n",
            "160/160 [==============================] - 0s 2ms/step - loss: 8.9706 - val_loss: 8.0003\n",
            "Epoch 3/200\n",
            "160/160 [==============================] - 0s 2ms/step - loss: 8.7771 - val_loss: 7.5178\n",
            "Epoch 4/200\n",
            "160/160 [==============================] - 0s 2ms/step - loss: 7.6736 - val_loss: 6.9586\n",
            "Epoch 5/200\n",
            "160/160 [==============================] - 0s 2ms/step - loss: 8.0486 - val_loss: 6.3480\n",
            "Epoch 6/200\n",
            "160/160 [==============================] - 0s 2ms/step - loss: 7.3240 - val_loss: 5.7039\n",
            "Epoch 7/200\n",
            "160/160 [==============================] - 0s 2ms/step - loss: 5.6796 - val_loss: 5.0768\n",
            "Epoch 8/200\n",
            "160/160 [==============================] - 0s 2ms/step - loss: 5.7037 - val_loss: 4.5231\n",
            "Epoch 9/200\n",
            "160/160 [==============================] - 0s 2ms/step - loss: 5.2509 - val_loss: 4.0905\n",
            "Epoch 10/200\n",
            "160/160 [==============================] - 0s 2ms/step - loss: 4.1357 - val_loss: 3.7927\n",
            "Epoch 11/200\n",
            "160/160 [==============================] - 0s 2ms/step - loss: 3.7988 - val_loss: 3.5890\n",
            "Epoch 12/200\n",
            "160/160 [==============================] - 0s 2ms/step - loss: 3.9422 - val_loss: 3.4582\n",
            "Epoch 13/200\n",
            "160/160 [==============================] - 0s 2ms/step - loss: 3.5469 - val_loss: 3.3704\n",
            "Epoch 14/200\n",
            "160/160 [==============================] - 0s 2ms/step - loss: 3.4525 - val_loss: 3.2970\n",
            "Epoch 15/200\n",
            "160/160 [==============================] - 0s 2ms/step - loss: 2.9698 - val_loss: 3.2376\n",
            "Epoch 16/200\n",
            "160/160 [==============================] - 0s 2ms/step - loss: 3.2075 - val_loss: 3.1774\n",
            "Epoch 17/200\n",
            "160/160 [==============================] - 0s 2ms/step - loss: 3.2964 - val_loss: 3.1197\n",
            "Epoch 18/200\n",
            "160/160 [==============================] - 0s 2ms/step - loss: 3.1572 - val_loss: 3.0641\n",
            "Epoch 19/200\n",
            "160/160 [==============================] - 0s 2ms/step - loss: 3.0395 - val_loss: 3.0085\n",
            "Epoch 20/200\n",
            "160/160 [==============================] - 0s 2ms/step - loss: 2.7278 - val_loss: 2.9563\n",
            "Epoch 21/200\n",
            "160/160 [==============================] - 0s 2ms/step - loss: 3.1489 - val_loss: 2.9050\n",
            "Epoch 22/200\n",
            "160/160 [==============================] - 0s 2ms/step - loss: 2.6144 - val_loss: 2.8578\n",
            "Epoch 23/200\n",
            "160/160 [==============================] - 0s 2ms/step - loss: 2.9403 - val_loss: 2.8089\n",
            "Epoch 24/200\n",
            "160/160 [==============================] - 0s 2ms/step - loss: 2.3208 - val_loss: 2.7630\n",
            "Epoch 25/200\n",
            "160/160 [==============================] - 0s 2ms/step - loss: 2.4115 - val_loss: 2.7233\n",
            "Epoch 26/200\n",
            "160/160 [==============================] - 0s 2ms/step - loss: 2.2981 - val_loss: 2.6761\n",
            "Epoch 27/200\n",
            "160/160 [==============================] - 0s 2ms/step - loss: 2.2484 - val_loss: 2.6286\n",
            "Epoch 28/200\n",
            "160/160 [==============================] - 0s 2ms/step - loss: 2.2959 - val_loss: 2.5897\n",
            "Epoch 29/200\n",
            "160/160 [==============================] - 0s 2ms/step - loss: 2.3840 - val_loss: 2.5463\n",
            "Epoch 30/200\n",
            "160/160 [==============================] - 0s 2ms/step - loss: 2.3858 - val_loss: 2.5084\n",
            "Epoch 31/200\n",
            "160/160 [==============================] - 0s 2ms/step - loss: 1.9349 - val_loss: 2.4651\n",
            "Epoch 32/200\n",
            "160/160 [==============================] - 0s 2ms/step - loss: 2.1968 - val_loss: 2.4284\n",
            "Epoch 33/200\n",
            "160/160 [==============================] - 0s 2ms/step - loss: 2.2001 - val_loss: 2.3887\n",
            "Epoch 34/200\n",
            "160/160 [==============================] - 0s 2ms/step - loss: 2.2137 - val_loss: 2.3525\n",
            "Epoch 35/200\n",
            "160/160 [==============================] - 0s 2ms/step - loss: 1.7882 - val_loss: 2.3195\n",
            "Epoch 36/200\n",
            "160/160 [==============================] - 0s 2ms/step - loss: 2.0854 - val_loss: 2.2869\n",
            "Epoch 37/200\n",
            "160/160 [==============================] - 0s 2ms/step - loss: 1.7188 - val_loss: 2.2530\n",
            "Epoch 38/200\n",
            "160/160 [==============================] - 0s 2ms/step - loss: 1.8943 - val_loss: 2.2177\n",
            "Epoch 39/200\n",
            "160/160 [==============================] - 0s 2ms/step - loss: 2.1300 - val_loss: 2.1899\n",
            "Epoch 40/200\n",
            "160/160 [==============================] - 0s 2ms/step - loss: 1.8908 - val_loss: 2.1573\n",
            "Epoch 41/200\n",
            "160/160 [==============================] - 0s 2ms/step - loss: 1.7597 - val_loss: 2.1251\n",
            "Epoch 42/200\n",
            "160/160 [==============================] - 0s 2ms/step - loss: 1.8472 - val_loss: 2.0911\n",
            "Epoch 43/200\n",
            "160/160 [==============================] - 0s 2ms/step - loss: 1.7613 - val_loss: 2.0663\n",
            "Epoch 44/200\n",
            "160/160 [==============================] - 0s 2ms/step - loss: 1.6647 - val_loss: 2.0425\n",
            "Epoch 45/200\n",
            "160/160 [==============================] - 0s 2ms/step - loss: 1.5696 - val_loss: 2.0129\n",
            "Epoch 46/200\n",
            "160/160 [==============================] - 0s 2ms/step - loss: 2.0052 - val_loss: 1.9879\n",
            "Epoch 47/200\n",
            "160/160 [==============================] - 0s 2ms/step - loss: 1.4453 - val_loss: 1.9600\n",
            "Epoch 48/200\n",
            "160/160 [==============================] - 0s 2ms/step - loss: 1.5321 - val_loss: 1.9276\n",
            "Epoch 49/200\n",
            "160/160 [==============================] - 0s 2ms/step - loss: 1.8159 - val_loss: 1.9065\n",
            "Epoch 50/200\n",
            "160/160 [==============================] - 0s 2ms/step - loss: 1.4733 - val_loss: 1.8849\n",
            "Epoch 51/200\n",
            "160/160 [==============================] - 0s 2ms/step - loss: 1.6049 - val_loss: 1.8577\n",
            "Epoch 52/200\n",
            "160/160 [==============================] - 0s 2ms/step - loss: 1.3418 - val_loss: 1.8323\n",
            "Epoch 53/200\n",
            "160/160 [==============================] - 0s 2ms/step - loss: 1.6098 - val_loss: 1.8150\n",
            "Epoch 54/200\n",
            "160/160 [==============================] - 0s 2ms/step - loss: 1.4895 - val_loss: 1.7944\n",
            "Epoch 55/200\n",
            "160/160 [==============================] - 0s 2ms/step - loss: 1.3385 - val_loss: 1.7674\n",
            "Epoch 56/200\n",
            "160/160 [==============================] - 0s 2ms/step - loss: 1.6185 - val_loss: 1.7431\n",
            "Epoch 57/200\n",
            "160/160 [==============================] - 0s 2ms/step - loss: 1.4980 - val_loss: 1.7221\n",
            "Epoch 58/200\n",
            "160/160 [==============================] - 0s 2ms/step - loss: 1.1939 - val_loss: 1.7078\n",
            "Epoch 59/200\n",
            "160/160 [==============================] - 0s 2ms/step - loss: 1.3870 - val_loss: 1.6811\n",
            "Epoch 60/200\n",
            "160/160 [==============================] - 0s 2ms/step - loss: 1.2325 - val_loss: 1.6619\n",
            "Epoch 61/200\n",
            "160/160 [==============================] - 0s 2ms/step - loss: 1.4739 - val_loss: 1.6455\n",
            "Epoch 62/200\n",
            "160/160 [==============================] - 0s 2ms/step - loss: 1.3145 - val_loss: 1.6268\n",
            "Epoch 63/200\n",
            "160/160 [==============================] - 0s 2ms/step - loss: 1.2516 - val_loss: 1.6100\n",
            "Epoch 64/200\n",
            "160/160 [==============================] - 0s 2ms/step - loss: 1.5030 - val_loss: 1.6050\n",
            "Epoch 65/200\n",
            "160/160 [==============================] - 0s 2ms/step - loss: 1.1423 - val_loss: 1.5794\n",
            "Epoch 66/200\n",
            "160/160 [==============================] - 0s 2ms/step - loss: 1.4178 - val_loss: 1.5625\n",
            "Epoch 67/200\n",
            "160/160 [==============================] - 0s 2ms/step - loss: 1.0963 - val_loss: 1.5466\n",
            "Epoch 68/200\n",
            "160/160 [==============================] - 0s 2ms/step - loss: 1.2475 - val_loss: 1.5209\n",
            "Epoch 69/200\n",
            "160/160 [==============================] - 0s 2ms/step - loss: 1.2233 - val_loss: 1.5086\n",
            "Epoch 70/200\n",
            "160/160 [==============================] - 0s 2ms/step - loss: 1.2090 - val_loss: 1.4934\n",
            "Epoch 71/200\n",
            "160/160 [==============================] - 0s 2ms/step - loss: 1.3356 - val_loss: 1.4796\n",
            "Epoch 72/200\n",
            "160/160 [==============================] - 0s 2ms/step - loss: 1.1582 - val_loss: 1.4709\n",
            "Epoch 73/200\n",
            "160/160 [==============================] - 0s 2ms/step - loss: 1.2753 - val_loss: 1.4552\n",
            "Epoch 74/200\n",
            "160/160 [==============================] - 0s 2ms/step - loss: 1.1975 - val_loss: 1.4378\n",
            "Epoch 75/200\n",
            "160/160 [==============================] - 0s 2ms/step - loss: 1.3044 - val_loss: 1.4254\n",
            "Epoch 76/200\n",
            "160/160 [==============================] - 0s 2ms/step - loss: 1.1594 - val_loss: 1.4105\n",
            "Epoch 77/200\n",
            "160/160 [==============================] - 0s 2ms/step - loss: 1.4497 - val_loss: 1.3955\n",
            "Epoch 78/200\n",
            "160/160 [==============================] - 0s 2ms/step - loss: 1.2012 - val_loss: 1.3862\n",
            "Epoch 79/200\n",
            "160/160 [==============================] - 0s 2ms/step - loss: 1.2457 - val_loss: 1.3728\n",
            "Epoch 80/200\n",
            "160/160 [==============================] - 0s 2ms/step - loss: 1.2039 - val_loss: 1.3588\n",
            "Epoch 81/200\n",
            "160/160 [==============================] - 0s 2ms/step - loss: 1.3484 - val_loss: 1.3523\n",
            "Epoch 82/200\n",
            "160/160 [==============================] - 0s 2ms/step - loss: 1.4838 - val_loss: 1.3382\n",
            "Epoch 83/200\n",
            "160/160 [==============================] - 0s 2ms/step - loss: 1.2674 - val_loss: 1.3319\n",
            "Epoch 84/200\n",
            "160/160 [==============================] - 0s 2ms/step - loss: 0.9997 - val_loss: 1.3149\n",
            "Epoch 85/200\n",
            "160/160 [==============================] - 0s 2ms/step - loss: 1.2759 - val_loss: 1.2997\n",
            "Epoch 86/200\n",
            "160/160 [==============================] - 0s 2ms/step - loss: 1.0664 - val_loss: 1.2874\n",
            "Epoch 87/200\n",
            "160/160 [==============================] - 0s 2ms/step - loss: 1.0835 - val_loss: 1.2737\n",
            "Epoch 88/200\n",
            "160/160 [==============================] - 0s 2ms/step - loss: 1.0722 - val_loss: 1.2633\n",
            "Epoch 89/200\n",
            "160/160 [==============================] - 0s 2ms/step - loss: 1.0923 - val_loss: 1.2529\n",
            "Epoch 90/200\n",
            "160/160 [==============================] - 0s 2ms/step - loss: 1.2269 - val_loss: 1.2453\n",
            "Epoch 91/200\n",
            "160/160 [==============================] - 0s 2ms/step - loss: 1.0427 - val_loss: 1.2369\n",
            "Epoch 92/200\n",
            "160/160 [==============================] - 0s 2ms/step - loss: 1.0276 - val_loss: 1.2234\n",
            "Epoch 93/200\n",
            "160/160 [==============================] - 0s 2ms/step - loss: 1.1195 - val_loss: 1.2215\n",
            "Epoch 94/200\n",
            "160/160 [==============================] - 0s 2ms/step - loss: 0.9612 - val_loss: 1.2049\n",
            "Epoch 95/200\n",
            "160/160 [==============================] - 0s 2ms/step - loss: 0.9541 - val_loss: 1.1989\n",
            "Epoch 96/200\n",
            "160/160 [==============================] - 0s 2ms/step - loss: 1.2241 - val_loss: 1.1887\n",
            "Epoch 97/200\n",
            "160/160 [==============================] - 0s 2ms/step - loss: 1.0634 - val_loss: 1.1825\n",
            "Epoch 98/200\n",
            "160/160 [==============================] - 0s 2ms/step - loss: 0.9399 - val_loss: 1.1720\n",
            "Epoch 99/200\n",
            "160/160 [==============================] - 0s 2ms/step - loss: 1.0947 - val_loss: 1.1644\n",
            "Epoch 100/200\n",
            "160/160 [==============================] - 0s 2ms/step - loss: 1.1076 - val_loss: 1.1626\n",
            "Epoch 101/200\n",
            "160/160 [==============================] - 0s 2ms/step - loss: 0.9908 - val_loss: 1.1484\n",
            "Epoch 102/200\n",
            "160/160 [==============================] - 0s 2ms/step - loss: 1.2264 - val_loss: 1.1367\n",
            "Epoch 103/200\n",
            "160/160 [==============================] - 0s 2ms/step - loss: 1.1732 - val_loss: 1.1317\n",
            "Epoch 104/200\n",
            "160/160 [==============================] - 0s 2ms/step - loss: 1.0980 - val_loss: 1.1238\n",
            "Epoch 105/200\n",
            "160/160 [==============================] - 0s 2ms/step - loss: 0.9013 - val_loss: 1.1131\n",
            "Epoch 106/200\n",
            "160/160 [==============================] - 0s 2ms/step - loss: 0.9850 - val_loss: 1.1159\n",
            "Epoch 107/200\n",
            "160/160 [==============================] - 0s 2ms/step - loss: 1.0687 - val_loss: 1.1059\n",
            "Epoch 108/200\n",
            "160/160 [==============================] - 0s 2ms/step - loss: 0.9370 - val_loss: 1.0954\n",
            "Epoch 109/200\n",
            "160/160 [==============================] - 0s 2ms/step - loss: 0.9921 - val_loss: 1.0818\n",
            "Epoch 110/200\n",
            "160/160 [==============================] - 0s 2ms/step - loss: 1.0005 - val_loss: 1.0767\n",
            "Epoch 111/200\n",
            "160/160 [==============================] - 0s 2ms/step - loss: 1.0611 - val_loss: 1.0669\n",
            "Epoch 112/200\n",
            "160/160 [==============================] - 0s 2ms/step - loss: 0.9197 - val_loss: 1.0578\n",
            "Epoch 113/200\n",
            "160/160 [==============================] - 0s 2ms/step - loss: 1.0401 - val_loss: 1.0573\n",
            "Epoch 114/200\n",
            "160/160 [==============================] - 0s 2ms/step - loss: 1.1387 - val_loss: 1.0523\n",
            "Epoch 115/200\n",
            "160/160 [==============================] - 0s 2ms/step - loss: 1.0064 - val_loss: 1.0436\n",
            "Epoch 116/200\n",
            "160/160 [==============================] - 0s 2ms/step - loss: 0.9398 - val_loss: 1.0312\n",
            "Epoch 117/200\n",
            "160/160 [==============================] - 0s 2ms/step - loss: 0.8631 - val_loss: 1.0233\n",
            "Epoch 118/200\n",
            "160/160 [==============================] - 0s 2ms/step - loss: 0.9305 - val_loss: 1.0129\n",
            "Epoch 119/200\n",
            "160/160 [==============================] - 0s 2ms/step - loss: 1.1344 - val_loss: 1.0085\n",
            "Epoch 120/200\n",
            "160/160 [==============================] - 0s 2ms/step - loss: 1.1722 - val_loss: 0.9997\n",
            "Epoch 121/200\n",
            "160/160 [==============================] - 0s 2ms/step - loss: 0.9992 - val_loss: 0.9918\n",
            "Epoch 122/200\n",
            "160/160 [==============================] - 0s 2ms/step - loss: 0.9068 - val_loss: 0.9807\n",
            "Epoch 123/200\n",
            "160/160 [==============================] - 0s 2ms/step - loss: 0.9910 - val_loss: 0.9777\n",
            "Epoch 124/200\n",
            "160/160 [==============================] - 0s 2ms/step - loss: 0.9606 - val_loss: 0.9690\n",
            "Epoch 125/200\n",
            "160/160 [==============================] - 0s 2ms/step - loss: 0.8511 - val_loss: 0.9604\n",
            "Epoch 126/200\n",
            "160/160 [==============================] - 0s 2ms/step - loss: 0.8088 - val_loss: 0.9585\n",
            "Epoch 127/200\n",
            "160/160 [==============================] - 0s 2ms/step - loss: 1.0827 - val_loss: 0.9471\n",
            "Epoch 128/200\n",
            "160/160 [==============================] - 0s 2ms/step - loss: 1.0029 - val_loss: 0.9445\n",
            "Epoch 129/200\n",
            "160/160 [==============================] - 0s 2ms/step - loss: 0.8379 - val_loss: 0.9368\n",
            "Epoch 130/200\n",
            "160/160 [==============================] - 0s 2ms/step - loss: 0.9895 - val_loss: 0.9277\n",
            "Epoch 131/200\n",
            "160/160 [==============================] - 0s 2ms/step - loss: 0.9072 - val_loss: 0.9226\n",
            "Epoch 132/200\n",
            "160/160 [==============================] - 0s 2ms/step - loss: 0.7012 - val_loss: 0.9138\n",
            "Epoch 133/200\n",
            "160/160 [==============================] - 0s 2ms/step - loss: 0.8922 - val_loss: 0.9108\n",
            "Epoch 134/200\n",
            "160/160 [==============================] - 0s 2ms/step - loss: 0.8989 - val_loss: 0.9053\n",
            "Epoch 135/200\n",
            "160/160 [==============================] - 0s 2ms/step - loss: 0.8422 - val_loss: 0.8988\n",
            "Epoch 136/200\n",
            "160/160 [==============================] - 0s 2ms/step - loss: 0.8830 - val_loss: 0.8960\n",
            "Epoch 137/200\n",
            "160/160 [==============================] - 0s 2ms/step - loss: 0.7915 - val_loss: 0.8826\n",
            "Epoch 138/200\n",
            "160/160 [==============================] - 0s 2ms/step - loss: 0.9459 - val_loss: 0.8810\n",
            "Epoch 139/200\n",
            "160/160 [==============================] - 0s 2ms/step - loss: 0.9682 - val_loss: 0.8747\n",
            "Epoch 140/200\n",
            "160/160 [==============================] - 0s 2ms/step - loss: 1.0901 - val_loss: 0.8672\n",
            "Epoch 141/200\n",
            "160/160 [==============================] - 0s 2ms/step - loss: 0.7669 - val_loss: 0.8596\n",
            "Epoch 142/200\n",
            "160/160 [==============================] - 0s 2ms/step - loss: 0.9802 - val_loss: 0.8533\n",
            "Epoch 143/200\n",
            "160/160 [==============================] - 0s 2ms/step - loss: 0.8790 - val_loss: 0.8484\n",
            "Epoch 144/200\n",
            "160/160 [==============================] - 0s 2ms/step - loss: 1.0097 - val_loss: 0.8414\n",
            "Epoch 145/200\n",
            "160/160 [==============================] - 0s 2ms/step - loss: 0.7396 - val_loss: 0.8367\n",
            "Epoch 146/200\n",
            "160/160 [==============================] - 0s 2ms/step - loss: 0.9449 - val_loss: 0.8282\n",
            "Epoch 147/200\n",
            "160/160 [==============================] - 0s 2ms/step - loss: 1.0320 - val_loss: 0.8262\n",
            "Epoch 148/200\n",
            "160/160 [==============================] - 0s 2ms/step - loss: 0.6165 - val_loss: 0.8185\n",
            "Epoch 149/200\n",
            "160/160 [==============================] - 0s 2ms/step - loss: 0.8999 - val_loss: 0.8133\n",
            "Epoch 150/200\n",
            "160/160 [==============================] - 0s 2ms/step - loss: 0.8063 - val_loss: 0.8066\n",
            "Epoch 151/200\n",
            "160/160 [==============================] - 0s 2ms/step - loss: 0.8603 - val_loss: 0.8029\n",
            "Epoch 152/200\n",
            "160/160 [==============================] - 0s 2ms/step - loss: 0.7428 - val_loss: 0.7950\n",
            "Epoch 153/200\n",
            "160/160 [==============================] - 0s 2ms/step - loss: 1.0049 - val_loss: 0.7948\n",
            "Epoch 154/200\n",
            "160/160 [==============================] - 0s 2ms/step - loss: 0.6626 - val_loss: 0.7874\n",
            "Epoch 155/200\n",
            "160/160 [==============================] - 0s 2ms/step - loss: 0.9310 - val_loss: 0.7834\n",
            "Epoch 156/200\n",
            "160/160 [==============================] - 0s 2ms/step - loss: 0.8532 - val_loss: 0.7806\n",
            "Epoch 157/200\n",
            "160/160 [==============================] - 0s 2ms/step - loss: 0.8290 - val_loss: 0.7746\n",
            "Epoch 158/200\n",
            "160/160 [==============================] - 0s 2ms/step - loss: 0.8022 - val_loss: 0.7659\n",
            "Epoch 159/200\n",
            "160/160 [==============================] - 0s 2ms/step - loss: 0.9545 - val_loss: 0.7622\n",
            "Epoch 160/200\n",
            "160/160 [==============================] - 0s 2ms/step - loss: 0.7036 - val_loss: 0.7567\n",
            "Epoch 161/200\n",
            "160/160 [==============================] - 0s 2ms/step - loss: 0.9062 - val_loss: 0.7534\n",
            "Epoch 162/200\n",
            "160/160 [==============================] - 0s 2ms/step - loss: 0.8974 - val_loss: 0.7494\n",
            "Epoch 163/200\n",
            "160/160 [==============================] - 0s 2ms/step - loss: 0.7506 - val_loss: 0.7454\n",
            "Epoch 164/200\n",
            "160/160 [==============================] - 0s 2ms/step - loss: 0.7896 - val_loss: 0.7406\n",
            "Epoch 165/200\n",
            "160/160 [==============================] - 0s 2ms/step - loss: 0.8330 - val_loss: 0.7351\n",
            "Epoch 166/200\n",
            "160/160 [==============================] - 0s 2ms/step - loss: 0.9392 - val_loss: 0.7316\n",
            "Epoch 167/200\n",
            "160/160 [==============================] - 0s 2ms/step - loss: 0.9249 - val_loss: 0.7272\n",
            "Epoch 168/200\n",
            "160/160 [==============================] - 0s 2ms/step - loss: 0.8875 - val_loss: 0.7254\n",
            "Epoch 169/200\n",
            "160/160 [==============================] - 0s 2ms/step - loss: 0.7887 - val_loss: 0.7187\n",
            "Epoch 170/200\n",
            "160/160 [==============================] - 0s 2ms/step - loss: 0.9739 - val_loss: 0.7173\n",
            "Epoch 171/200\n",
            "160/160 [==============================] - 0s 2ms/step - loss: 0.5757 - val_loss: 0.7135\n",
            "Epoch 172/200\n",
            "160/160 [==============================] - 0s 2ms/step - loss: 0.7422 - val_loss: 0.7063\n",
            "Epoch 173/200\n",
            "160/160 [==============================] - 0s 2ms/step - loss: 0.8915 - val_loss: 0.7036\n",
            "Epoch 174/200\n",
            "160/160 [==============================] - 0s 2ms/step - loss: 0.7317 - val_loss: 0.6985\n",
            "Epoch 175/200\n",
            "160/160 [==============================] - 0s 2ms/step - loss: 0.6192 - val_loss: 0.6936\n",
            "Epoch 176/200\n",
            "160/160 [==============================] - 0s 2ms/step - loss: 0.7526 - val_loss: 0.6896\n",
            "Epoch 177/200\n",
            "160/160 [==============================] - 0s 2ms/step - loss: 0.6865 - val_loss: 0.6855\n",
            "Epoch 178/200\n",
            "160/160 [==============================] - 0s 2ms/step - loss: 0.7703 - val_loss: 0.6820\n",
            "Epoch 179/200\n",
            "160/160 [==============================] - 0s 2ms/step - loss: 0.6369 - val_loss: 0.6794\n",
            "Epoch 180/200\n",
            "160/160 [==============================] - 0s 2ms/step - loss: 0.6764 - val_loss: 0.6791\n",
            "Epoch 181/200\n",
            "160/160 [==============================] - 0s 2ms/step - loss: 0.7425 - val_loss: 0.6738\n",
            "Epoch 182/200\n",
            "160/160 [==============================] - 0s 2ms/step - loss: 0.5991 - val_loss: 0.6691\n",
            "Epoch 183/200\n",
            "160/160 [==============================] - 0s 2ms/step - loss: 0.6866 - val_loss: 0.6650\n",
            "Epoch 184/200\n",
            "160/160 [==============================] - 0s 2ms/step - loss: 0.7228 - val_loss: 0.6621\n",
            "Epoch 185/200\n",
            "160/160 [==============================] - 0s 2ms/step - loss: 0.6490 - val_loss: 0.6604\n",
            "Epoch 186/200\n",
            "160/160 [==============================] - 0s 2ms/step - loss: 0.7901 - val_loss: 0.6554\n",
            "Epoch 187/200\n",
            "160/160 [==============================] - 0s 2ms/step - loss: 0.7651 - val_loss: 0.6523\n",
            "Epoch 188/200\n",
            "160/160 [==============================] - 0s 2ms/step - loss: 0.7873 - val_loss: 0.6494\n",
            "Epoch 189/200\n",
            "160/160 [==============================] - 0s 2ms/step - loss: 0.8148 - val_loss: 0.6459\n",
            "Epoch 190/200\n",
            "160/160 [==============================] - 0s 2ms/step - loss: 0.7068 - val_loss: 0.6435\n",
            "Epoch 191/200\n",
            "160/160 [==============================] - 0s 2ms/step - loss: 0.6984 - val_loss: 0.6413\n",
            "Epoch 192/200\n",
            "160/160 [==============================] - 0s 2ms/step - loss: 0.6861 - val_loss: 0.6377\n",
            "Epoch 193/200\n",
            "160/160 [==============================] - 0s 2ms/step - loss: 0.6325 - val_loss: 0.6348\n",
            "Epoch 194/200\n",
            "160/160 [==============================] - 0s 2ms/step - loss: 0.5605 - val_loss: 0.6320\n",
            "Epoch 195/200\n",
            "160/160 [==============================] - 0s 2ms/step - loss: 0.6964 - val_loss: 0.6290\n",
            "Epoch 196/200\n",
            "160/160 [==============================] - 0s 2ms/step - loss: 0.6974 - val_loss: 0.6262\n",
            "Epoch 197/200\n",
            "160/160 [==============================] - 0s 2ms/step - loss: 0.5356 - val_loss: 0.6243\n",
            "Epoch 198/200\n",
            "160/160 [==============================] - 0s 2ms/step - loss: 0.7555 - val_loss: 0.6202\n",
            "Epoch 199/200\n",
            "160/160 [==============================] - 0s 2ms/step - loss: 0.5030 - val_loss: 0.6180\n",
            "Epoch 200/200\n",
            "160/160 [==============================] - 0s 2ms/step - loss: 0.6136 - val_loss: 0.6170\n"
          ],
          "name": "stdout"
        }
      ]
    },
    {
      "cell_type": "code",
      "metadata": {
        "colab": {
          "base_uri": "https://localhost:8080/",
          "height": 71
        },
        "id": "AcVDJdMWHFNV",
        "outputId": "a54ff9a7-c0df-46af-e8d1-3375938ce451"
      },
      "source": [
        "plt.figure(figsize=(10, 6))\n",
        "\n",
        "plt.plot(r.history['loss'], label='loss')\n",
        "plt.plot(r.history['val_loss'], label='val_loss')\n",
        "plt.legend()"
      ],
      "execution_count": null,
      "outputs": [
        {
          "output_type": "execute_result",
          "data": {
            "text/plain": [
              "<matplotlib.legend.Legend at 0x7f3b0cf77810>"
            ]
          },
          "metadata": {
            "tags": []
          },
          "execution_count": 115
        },
        {
          "output_type": "display_data",
          "data": {
            "image/png": "[encoded data removed]",
            "text/plain": [
              "<Figure size 720x432 with 1 Axes>"
            ]
          },
          "metadata": {
            "tags": []
          }
        }
      ]
    },
    {
      "cell_type": "code",
      "metadata": {
        "colab": {
          "base_uri": "https://localhost:8080/"
        },
        "id": "fw0mfbDxHX5L",
        "outputId": "e7fe291d-8640-4a2b-9c9f-744e88d4677d"
      },
      "source": [
        "test_pred = model.predict(X_test)\n",
        "train_pred = model.predict(X_train)\n",
        "\n",
        "print('Test set evaluation:\\n_____________________________________')\n",
        "print_evaluate(y_test, test_pred)\n",
        "\n",
        "print('Train set evaluation:\\n_____________________________________')\n",
        "print_evaluate(y_train, train_pred)"
      ],
      "execution_count": null,
      "outputs": [
        {
          "output_type": "stream",
          "text": [
            "Test set evaluation:\n",
            "_____________________________________\n",
            "MAE: 0.5786404252052307\n",
            "MSE: 0.617020501715096\n",
            "RMSE: 0.7855065255713004\n",
            "R2 Square 0.695674228500569\n",
            "Train set evaluation:\n",
            "_____________________________________\n",
            "MAE: 0.5943219192326069\n",
            "MSE: 0.6619671087435062\n",
            "RMSE: 0.8136136114541755\n",
            "R2 Square 0.63615686225022\n"
          ],
          "name": "stdout"
        }
      ]
    },
    {
      "cell_type": "code",
      "metadata": {
        "colab": {
          "base_uri": "https://localhost:8080/"
        },
        "id": "55q7ek-0dkTm",
        "outputId": "b14ca07d-963c-493b-9d1f-387bab25b365"
      },
      "source": [
        "print(model.summary())"
      ],
      "execution_count": null,
      "outputs": [
        {
          "output_type": "stream",
          "text": [
            "Model: \"sequential_1\"\n",
            "_________________________________________________________________\n",
            "Layer (type)                 Output Shape              Param #   \n",
            "=================================================================\n",
            "dense_6 (Dense)              (None, 5)                 30        \n",
            "_________________________________________________________________\n",
            "dense_7 (Dense)              (None, 32)                192       \n",
            "_________________________________________________________________\n",
            "dense_8 (Dense)              (None, 64)                2112      \n",
            "_________________________________________________________________\n",
            "dense_9 (Dense)              (None, 128)               8320      \n",
            "_________________________________________________________________\n",
            "dense_10 (Dense)             (None, 512)               66048     \n",
            "_________________________________________________________________\n",
            "dropout_1 (Dropout)          (None, 512)               0         \n",
            "_________________________________________________________________\n",
            "dense_11 (Dense)             (None, 1)                 513       \n",
            "=================================================================\n",
            "Total params: 77,215\n",
            "Trainable params: 77,215\n",
            "Non-trainable params: 0\n",
            "_________________________________________________________________\n",
            "None\n"
          ],
          "name": "stdout"
        }
      ]
    },
    {
      "cell_type": "code",
      "metadata": {
        "colab": {
          "base_uri": "https://localhost:8080/",
          "height": 391
        },
        "id": "RcyORTavHaK6",
        "outputId": "02a5e2a5-cb3d-478b-ab51-7ed76ab2a023"
      },
      "source": [
        "results_df_2 = pd.DataFrame(data=[[\"Artficial Neural Network\", *evaluate(y_test, test_pred), 0]], \n",
        "                            columns=['Model', 'MAE', 'MSE', 'RMSE', 'R2 Square', 'Cross Validation'])\n",
        "results_df = results_df.append(results_df_2, ignore_index=True)\n",
        "results_df"
      ],
      "execution_count": null,
      "outputs": [
        {
          "output_type": "execute_result",
          "data": {
            "text/html": [
              "<div>\n",
              "<style scoped>\n",
              "    .dataframe tbody tr th:only-of-type {\n",
              "        vertical-align: middle;\n",
              "    }\n",
              "\n",
              "    .dataframe tbody tr th {\n",
              "        vertical-align: top;\n",
              "    }\n",
              "\n",
              "    .dataframe thead th {\n",
              "        text-align: right;\n",
              "    }\n",
              "</style>\n",
              "<table border=\"1\" class=\"dataframe\">\n",
              "  <thead>\n",
              "    <tr style=\"text-align: right;\">\n",
              "      <th></th>\n",
              "      <th>Model</th>\n",
              "      <th>MAE</th>\n",
              "      <th>MSE</th>\n",
              "      <th>RMSE</th>\n",
              "      <th>R2 Square</th>\n",
              "      <th>Cross Validation</th>\n",
              "    </tr>\n",
              "  </thead>\n",
              "  <tbody>\n",
              "    <tr>\n",
              "      <th>0</th>\n",
              "      <td>Linear Regression</td>\n",
              "      <td>0.747675</td>\n",
              "      <td>0.877382</td>\n",
              "      <td>0.936687</td>\n",
              "      <td>0.567259</td>\n",
              "      <td>0.509614</td>\n",
              "    </tr>\n",
              "    <tr>\n",
              "      <th>1</th>\n",
              "      <td>Robust Regression</td>\n",
              "      <td>1.047979</td>\n",
              "      <td>2.707317</td>\n",
              "      <td>1.645393</td>\n",
              "      <td>-0.335298</td>\n",
              "      <td>-0.163998</td>\n",
              "    </tr>\n",
              "    <tr>\n",
              "      <th>2</th>\n",
              "      <td>Ridge Regression</td>\n",
              "      <td>0.810667</td>\n",
              "      <td>1.156877</td>\n",
              "      <td>1.075582</td>\n",
              "      <td>0.429407</td>\n",
              "      <td>0.510120</td>\n",
              "    </tr>\n",
              "    <tr>\n",
              "      <th>3</th>\n",
              "      <td>Lasso Regression</td>\n",
              "      <td>0.779502</td>\n",
              "      <td>0.952091</td>\n",
              "      <td>0.975751</td>\n",
              "      <td>0.530412</td>\n",
              "      <td>0.285220</td>\n",
              "    </tr>\n",
              "    <tr>\n",
              "      <th>4</th>\n",
              "      <td>Elastic Net Regression</td>\n",
              "      <td>0.775061</td>\n",
              "      <td>0.942852</td>\n",
              "      <td>0.971006</td>\n",
              "      <td>0.534968</td>\n",
              "      <td>0.293492</td>\n",
              "    </tr>\n",
              "    <tr>\n",
              "      <th>5</th>\n",
              "      <td>Artficial Neural Network</td>\n",
              "      <td>0.578640</td>\n",
              "      <td>0.617021</td>\n",
              "      <td>0.785507</td>\n",
              "      <td>0.695674</td>\n",
              "      <td>0.000000</td>\n",
              "    </tr>\n",
              "  </tbody>\n",
              "</table>\n",
              "</div>"
            ],
            "text/plain": [
              "                      Model       MAE  ...  R2 Square  Cross Validation\n",
              "0         Linear Regression  0.747675  ...   0.567259          0.509614\n",
              "1         Robust Regression  1.047979  ...  -0.335298         -0.163998\n",
              "2          Ridge Regression  0.810667  ...   0.429407          0.510120\n",
              "3          Lasso Regression  0.779502  ...   0.530412          0.285220\n",
              "4    Elastic Net Regression  0.775061  ...   0.534968          0.293492\n",
              "5  Artficial Neural Network  0.578640  ...   0.695674          0.000000\n",
              "\n",
              "[6 rows x 6 columns]"
            ]
          },
          "metadata": {
            "tags": []
          },
          "execution_count": 118
        }
      ]
    },
    {
      "cell_type": "markdown",
      "metadata": {
        "id": "HEmufqT3Hk1O"
      },
      "source": [
        "# Model Compared"
      ]
    },
    {
      "cell_type": "code",
      "metadata": {
        "colab": {
          "base_uri": "https://localhost:8080/",
          "height": 71
        },
        "id": "JzRvBy6YHnnn",
        "outputId": "39e60e1e-d2d4-46cd-ae5f-eef01e35c772"
      },
      "source": [
        "results_df.set_index('Model', inplace=True)\n",
        "results_df['R2 Square'].plot(kind='barh', figsize=(12, 8))"
      ],
      "execution_count": null,
      "outputs": [
        {
          "output_type": "execute_result",
          "data": {
            "text/plain": [
              "<matplotlib.axes._subplots.AxesSubplot at 0x7f3b0b29c5d0>"
            ]
          },
          "metadata": {
            "tags": []
          },
          "execution_count": 119
        },
        {
          "output_type": "display_data",
          "data": {
            "image/png": "[encoded data removed]",
            "text/plain": [
              "<Figure size 864x576 with 1 Axes>"
            ]
          },
          "metadata": {
            "tags": []
          }
        }
      ]
    },
    {
      "cell_type": "markdown",
      "metadata": {
        "id": "1JYN65B8edgd"
      },
      "source": [
        "# Bagged Tree"
      ]
    },
    {
      "cell_type": "code",
      "metadata": {
        "id": "hLtIaRXWel42"
      },
      "source": [
        "from sklearn.ensemble import BaggingClassifier, RandomForestClassifier"
      ],
      "execution_count": null,
      "outputs": []
    },
    {
      "cell_type": "code",
      "metadata": {
        "colab": {
          "base_uri": "https://localhost:8080/"
        },
        "id": "Vm-5irbGem3s",
        "outputId": "a72406af-4d98-4372-b772-6e07b2ceab07"
      },
      "source": [
        "# Bagged Tree\n",
        "bt = BaggingClassifier()\n",
        "bt.fit(X_train, y_train)\n",
        "\n",
        "print('Training accuracy:', bt.score(X_train, y_train))\n",
        "print('Test accuracy:', bt.score(X_test, y_test))"
      ],
      "execution_count": null,
      "outputs": [
        {
          "output_type": "stream",
          "text": [
            "Training accuracy: 1.0\n",
            "Test accuracy: 1.0\n"
          ],
          "name": "stdout"
        }
      ]
    },
    {
      "cell_type": "markdown",
      "metadata": {
        "id": "HU88nMJSevCd"
      },
      "source": [
        "# One vs One Class"
      ]
    },
    {
      "cell_type": "code",
      "metadata": {
        "colab": {
          "base_uri": "https://localhost:8080/"
        },
        "id": "0oZzG5QXe08H",
        "outputId": "229e3edc-f134-4fd5-a5ee-cc5d7e7859f4"
      },
      "source": [
        "from sklearn.multiclass import OneVsOneClassifier\n",
        "from sklearn.linear_model import LogisticRegression\n",
        "from sklearn.metrics import mean_squared_error\n",
        "log_reg = LogisticRegression()\n",
        "ovo = OneVsOneClassifier(log_reg)\n",
        "ovo.fit(X_train, y_train)\n",
        "\n",
        "print('Training accuracy:', ovo.score(X_train, y_train))\n",
        "print('Test accuracy:', ovo.score(X_test, y_test))"
      ],
      "execution_count": null,
      "outputs": [
        {
          "output_type": "stream",
          "text": [
            "Training accuracy: 0.9625\n",
            "Test accuracy: 0.975\n"
          ],
          "name": "stdout"
        }
      ]
    },
    {
      "cell_type": "code",
      "metadata": {
        "colab": {
          "base_uri": "https://localhost:8080/"
        },
        "id": "OoCIL6pskg4y",
        "outputId": "a432a9cb-fb84-41a4-d6c9-26d55af5fcc5"
      },
      "source": [
        "y_preds = ovo.predict(X)\n",
        "print(\"Root Mean Square Error is:\\n\")\n",
        "np.sqrt(mean_squared_error(y, y_preds))"
      ],
      "execution_count": null,
      "outputs": [
        {
          "output_type": "stream",
          "text": [
            "Root Mean Square Error is:\n",
            "\n"
          ],
          "name": "stdout"
        },
        {
          "output_type": "execute_result",
          "data": {
            "text/plain": [
              "1.6792855623746665"
            ]
          },
          "metadata": {
            "tags": []
          },
          "execution_count": 123
        }
      ]
    },
    {
      "cell_type": "markdown",
      "metadata": {
        "id": "0CI_cXuffGcV"
      },
      "source": [
        "# Random Forest Class"
      ]
    },
    {
      "cell_type": "code",
      "metadata": {
        "colab": {
          "base_uri": "https://localhost:8080/"
        },
        "id": "HR0xp0hrfWfd",
        "outputId": "0fe8b5e7-79fb-4308-a1e2-bf53932cac4d"
      },
      "source": [
        "rf = RandomForestClassifier()\n",
        "rf.fit(X_train, y_train)\n",
        "\n",
        "print('Training accuracy:', rf.score(X_train, y_train))\n",
        "print('Test accuracy:', rf.score(X_test, y_test))"
      ],
      "execution_count": null,
      "outputs": [
        {
          "output_type": "stream",
          "text": [
            "Training accuracy: 1.0\n",
            "Test accuracy: 1.0\n"
          ],
          "name": "stdout"
        }
      ]
    },
    {
      "cell_type": "code",
      "metadata": {
        "colab": {
          "base_uri": "https://localhost:8080/"
        },
        "id": "Smb9N8S0k2jb",
        "outputId": "a36a3671-6315-45b5-8cd5-e17463d4f3ff"
      },
      "source": [
        "y_preds = rf.predict(X)\n",
        "print(\"Root Mean Square Error is:\\n\")\n",
        "np.sqrt(mean_squared_error(y, y_preds))"
      ],
      "execution_count": null,
      "outputs": [
        {
          "output_type": "stream",
          "text": [
            "Root Mean Square Error is:\n",
            "\n"
          ],
          "name": "stdout"
        },
        {
          "output_type": "execute_result",
          "data": {
            "text/plain": [
              "1.7748239349298849"
            ]
          },
          "metadata": {
            "tags": []
          },
          "execution_count": 125
        }
      ]
    },
    {
      "cell_type": "code",
      "metadata": {
        "colab": {
          "base_uri": "https://localhost:8080/",
          "height": 139
        },
        "id": "cXyVtHibjWUR",
        "outputId": "786a7af0-da2f-4983-a1dd-47758dee86b8"
      },
      "source": [
        "from matplotlib import pyplot\n",
        "model = RandomForestClassifier()\n",
        "# fit the model\n",
        "model.fit(X, y)\n",
        "# get importance\n",
        "importance = model.feature_importances_\n",
        "# summarize feature importance\n",
        "for i,v in enumerate(importance):\n",
        "\tprint('Feature: %0d, Score: %.5f' % (i,v))\n",
        "# plot feature importance\n",
        "pyplot.bar([x for x in range(len(importance))], importance)\n",
        "pyplot.show()"
      ],
      "execution_count": null,
      "outputs": [
        {
          "output_type": "stream",
          "text": [
            "Feature: 0, Score: 0.14101\n",
            "Feature: 1, Score: 0.01152\n",
            "Feature: 2, Score: 0.24996\n",
            "Feature: 3, Score: 0.05443\n",
            "Feature: 4, Score: 0.54308\n"
          ],
          "name": "stdout"
        },
        {
          "output_type": "display_data",
          "data": {
            "image/png": "[encoded data removed]",
            "text/plain": [
              "<Figure size 432x288 with 1 Axes>"
            ]
          },
          "metadata": {
            "tags": []
          }
        }
      ]
    },
    {
      "cell_type": "markdown",
      "metadata": {
        "id": "FR1hQXmQhch0"
      },
      "source": [
        "# Logistic Regression"
      ]
    },
    {
      "cell_type": "code",
      "metadata": {
        "colab": {
          "base_uri": "https://localhost:8080/"
        },
        "id": "XSS8NceUhh1p",
        "outputId": "9478c172-bda8-488b-e02f-092ab3c9b127"
      },
      "source": [
        "from sklearn import model_selection\n",
        "X_train, X_test, Y_train, Y_test = model_selection.train_test_split(X, y, test_size=0.30, random_state=100)\n",
        "model = LogisticRegression()\n",
        "model.fit(X_train, Y_train)\n",
        "result = model.score(X_test, Y_test)\n",
        "print(\"Accuracy: %.2f%%\" % (result*100.0))"
      ],
      "execution_count": null,
      "outputs": [
        {
          "output_type": "stream",
          "text": [
            "Accuracy: 88.33%\n"
          ],
          "name": "stdout"
        },
        {
          "output_type": "stream",
          "text": [
            "/usr/local/lib/python3.7/dist-packages/sklearn/linear_model/_logistic.py:940: ConvergenceWarning: lbfgs failed to converge (status=1):\n",
            "STOP: TOTAL NO. of ITERATIONS REACHED LIMIT.\n",
            "\n",
            "Increase the number of iterations (max_iter) or scale the data as shown in:\n",
            "    https://scikit-learn.org/stable/modules/preprocessing.html\n",
            "Please also refer to the documentation for alternative solver options:\n",
            "    https://scikit-learn.org/stable/modules/linear_model.html#logistic-regression\n",
            "  extra_warning_msg=_LOGISTIC_SOLVER_CONVERGENCE_MSG)\n"
          ],
          "name": "stderr"
        }
      ]
    },
    {
      "cell_type": "code",
      "metadata": {
        "colab": {
          "base_uri": "https://localhost:8080/"
        },
        "id": "jKZOpWq4k6UY",
        "outputId": "a09f74aa-2c30-4c04-c6ee-9db410e40b80"
      },
      "source": [
        "y_preds = model.predict(X)\n",
        "print(\"Root Mean Square Error is:\\n\")\n",
        "np.sqrt(mean_squared_error(y, y_preds))"
      ],
      "execution_count": null,
      "outputs": [
        {
          "output_type": "stream",
          "text": [
            "Root Mean Square Error is:\n",
            "\n"
          ],
          "name": "stdout"
        },
        {
          "output_type": "execute_result",
          "data": {
            "text/plain": [
              "0.7071067811865476"
            ]
          },
          "metadata": {
            "tags": []
          },
          "execution_count": 128
        }
      ]
    },
    {
      "cell_type": "markdown",
      "metadata": {
        "id": "JJfawLXDg_4O"
      },
      "source": [
        "# Validating"
      ]
    },
    {
      "cell_type": "code",
      "metadata": {
        "id": "SRbRiSSqhGIO"
      },
      "source": [
        "from sklearn.metrics import mean_squared_error\n",
        "from math import sqrt\n",
        "from sklearn import model_selection\n",
        "from sklearn.linear_model import LogisticRegression\n",
        "from sklearn.model_selection import KFold\n",
        "from sklearn.model_selection import LeaveOneOut\n",
        "from sklearn.model_selection import LeavePOut\n",
        "from sklearn.model_selection import ShuffleSplit\n",
        "from sklearn.model_selection import StratifiedKFold"
      ],
      "execution_count": null,
      "outputs": []
    },
    {
      "cell_type": "markdown",
      "metadata": {
        "id": "36jxMIwnh7Q4"
      },
      "source": [
        "# KFOLD"
      ]
    },
    {
      "cell_type": "code",
      "metadata": {
        "colab": {
          "base_uri": "https://localhost:8080/"
        },
        "id": "cKQsMH-JhJ69",
        "outputId": "d57cd7f3-40a5-47bb-d8dc-208c9b1509c5"
      },
      "source": [
        "kfold = model_selection.KFold(n_splits=10, random_state=100)\n",
        "model_kfold = LogisticRegression()\n",
        "results_kfold = model_selection.cross_val_score(model_kfold, X, y, cv=kfold)\n",
        "print(\"Accuracy: %.2f%%\" % (results_kfold.mean()*100.0))"
      ],
      "execution_count": null,
      "outputs": [
        {
          "output_type": "stream",
          "text": [
            "/usr/local/lib/python3.7/dist-packages/sklearn/model_selection/_split.py:296: FutureWarning: Setting a random_state has no effect since shuffle is False. This will raise an error in 0.24. You should leave random_state to its default (None), or set shuffle=True.\n",
            "  FutureWarning\n",
            "/usr/local/lib/python3.7/dist-packages/sklearn/linear_model/_logistic.py:940: ConvergenceWarning: lbfgs failed to converge (status=1):\n",
            "STOP: TOTAL NO. of ITERATIONS REACHED LIMIT.\n",
            "\n",
            "Increase the number of iterations (max_iter) or scale the data as shown in:\n",
            "    https://scikit-learn.org/stable/modules/preprocessing.html\n",
            "Please also refer to the documentation for alternative solver options:\n",
            "    https://scikit-learn.org/stable/modules/linear_model.html#logistic-regression\n",
            "  extra_warning_msg=_LOGISTIC_SOLVER_CONVERGENCE_MSG)\n",
            "/usr/local/lib/python3.7/dist-packages/sklearn/linear_model/_logistic.py:940: ConvergenceWarning: lbfgs failed to converge (status=1):\n",
            "STOP: TOTAL NO. of ITERATIONS REACHED LIMIT.\n",
            "\n",
            "Increase the number of iterations (max_iter) or scale the data as shown in:\n",
            "    https://scikit-learn.org/stable/modules/preprocessing.html\n",
            "Please also refer to the documentation for alternative solver options:\n",
            "    https://scikit-learn.org/stable/modules/linear_model.html#logistic-regression\n",
            "  extra_warning_msg=_LOGISTIC_SOLVER_CONVERGENCE_MSG)\n",
            "/usr/local/lib/python3.7/dist-packages/sklearn/linear_model/_logistic.py:940: ConvergenceWarning: lbfgs failed to converge (status=1):\n",
            "STOP: TOTAL NO. of ITERATIONS REACHED LIMIT.\n",
            "\n",
            "Increase the number of iterations (max_iter) or scale the data as shown in:\n",
            "    https://scikit-learn.org/stable/modules/preprocessing.html\n",
            "Please also refer to the documentation for alternative solver options:\n",
            "    https://scikit-learn.org/stable/modules/linear_model.html#logistic-regression\n",
            "  extra_warning_msg=_LOGISTIC_SOLVER_CONVERGENCE_MSG)\n",
            "/usr/local/lib/python3.7/dist-packages/sklearn/linear_model/_logistic.py:940: ConvergenceWarning: lbfgs failed to converge (status=1):\n",
            "STOP: TOTAL NO. of ITERATIONS REACHED LIMIT.\n",
            "\n",
            "Increase the number of iterations (max_iter) or scale the data as shown in:\n",
            "    https://scikit-learn.org/stable/modules/preprocessing.html\n",
            "Please also refer to the documentation for alternative solver options:\n",
            "    https://scikit-learn.org/stable/modules/linear_model.html#logistic-regression\n",
            "  extra_warning_msg=_LOGISTIC_SOLVER_CONVERGENCE_MSG)\n",
            "/usr/local/lib/python3.7/dist-packages/sklearn/linear_model/_logistic.py:940: ConvergenceWarning: lbfgs failed to converge (status=1):\n",
            "STOP: TOTAL NO. of ITERATIONS REACHED LIMIT.\n",
            "\n",
            "Increase the number of iterations (max_iter) or scale the data as shown in:\n",
            "    https://scikit-learn.org/stable/modules/preprocessing.html\n",
            "Please also refer to the documentation for alternative solver options:\n",
            "    https://scikit-learn.org/stable/modules/linear_model.html#logistic-regression\n",
            "  extra_warning_msg=_LOGISTIC_SOLVER_CONVERGENCE_MSG)\n",
            "/usr/local/lib/python3.7/dist-packages/sklearn/linear_model/_logistic.py:940: ConvergenceWarning: lbfgs failed to converge (status=1):\n",
            "STOP: TOTAL NO. of ITERATIONS REACHED LIMIT.\n",
            "\n",
            "Increase the number of iterations (max_iter) or scale the data as shown in:\n",
            "    https://scikit-learn.org/stable/modules/preprocessing.html\n",
            "Please also refer to the documentation for alternative solver options:\n",
            "    https://scikit-learn.org/stable/modules/linear_model.html#logistic-regression\n",
            "  extra_warning_msg=_LOGISTIC_SOLVER_CONVERGENCE_MSG)\n",
            "/usr/local/lib/python3.7/dist-packages/sklearn/linear_model/_logistic.py:940: ConvergenceWarning: lbfgs failed to converge (status=1):\n",
            "STOP: TOTAL NO. of ITERATIONS REACHED LIMIT.\n",
            "\n",
            "Increase the number of iterations (max_iter) or scale the data as shown in:\n",
            "    https://scikit-learn.org/stable/modules/preprocessing.html\n",
            "Please also refer to the documentation for alternative solver options:\n",
            "    https://scikit-learn.org/stable/modules/linear_model.html#logistic-regression\n",
            "  extra_warning_msg=_LOGISTIC_SOLVER_CONVERGENCE_MSG)\n",
            "/usr/local/lib/python3.7/dist-packages/sklearn/linear_model/_logistic.py:940: ConvergenceWarning: lbfgs failed to converge (status=1):\n",
            "STOP: TOTAL NO. of ITERATIONS REACHED LIMIT.\n",
            "\n",
            "Increase the number of iterations (max_iter) or scale the data as shown in:\n",
            "    https://scikit-learn.org/stable/modules/preprocessing.html\n",
            "Please also refer to the documentation for alternative solver options:\n",
            "    https://scikit-learn.org/stable/modules/linear_model.html#logistic-regression\n",
            "  extra_warning_msg=_LOGISTIC_SOLVER_CONVERGENCE_MSG)\n",
            "/usr/local/lib/python3.7/dist-packages/sklearn/linear_model/_logistic.py:940: ConvergenceWarning: lbfgs failed to converge (status=1):\n",
            "STOP: TOTAL NO. of ITERATIONS REACHED LIMIT.\n",
            "\n",
            "Increase the number of iterations (max_iter) or scale the data as shown in:\n",
            "    https://scikit-learn.org/stable/modules/preprocessing.html\n",
            "Please also refer to the documentation for alternative solver options:\n",
            "    https://scikit-learn.org/stable/modules/linear_model.html#logistic-regression\n",
            "  extra_warning_msg=_LOGISTIC_SOLVER_CONVERGENCE_MSG)\n",
            "/usr/local/lib/python3.7/dist-packages/sklearn/linear_model/_logistic.py:940: ConvergenceWarning: lbfgs failed to converge (status=1):\n",
            "STOP: TOTAL NO. of ITERATIONS REACHED LIMIT.\n",
            "\n",
            "Increase the number of iterations (max_iter) or scale the data as shown in:\n",
            "    https://scikit-learn.org/stable/modules/preprocessing.html\n",
            "Please also refer to the documentation for alternative solver options:\n",
            "    https://scikit-learn.org/stable/modules/linear_model.html#logistic-regression\n",
            "  extra_warning_msg=_LOGISTIC_SOLVER_CONVERGENCE_MSG)\n"
          ],
          "name": "stderr"
        },
        {
          "output_type": "stream",
          "text": [
            "Accuracy: 85.00%\n"
          ],
          "name": "stdout"
        }
      ]
    },
    {
      "cell_type": "markdown",
      "metadata": {
        "id": "193rwGF1h9l5"
      },
      "source": [
        "# Stratified K-fold Cross-Validation"
      ]
    },
    {
      "cell_type": "code",
      "metadata": {
        "colab": {
          "base_uri": "https://localhost:8080/"
        },
        "id": "VlE18V-Ah4yZ",
        "outputId": "5a5c5de1-24a5-428b-e99f-3f55861fcdb2"
      },
      "source": [
        "skfold = StratifiedKFold(n_splits=3, random_state=100)\n",
        "model_skfold = LogisticRegression()\n",
        "results_skfold = model_selection.cross_val_score(model_skfold, X, y, cv=skfold)\n",
        "print(\"Accuracy: %.2f%%\" % (results_skfold.mean()*100.0))\n",
        "#85%"
      ],
      "execution_count": null,
      "outputs": [
        {
          "output_type": "stream",
          "text": [
            "Accuracy: 85.50%\n"
          ],
          "name": "stdout"
        },
        {
          "output_type": "stream",
          "text": [
            "/usr/local/lib/python3.7/dist-packages/sklearn/model_selection/_split.py:296: FutureWarning: Setting a random_state has no effect since shuffle is False. This will raise an error in 0.24. You should leave random_state to its default (None), or set shuffle=True.\n",
            "  FutureWarning\n",
            "/usr/local/lib/python3.7/dist-packages/sklearn/linear_model/_logistic.py:940: ConvergenceWarning: lbfgs failed to converge (status=1):\n",
            "STOP: TOTAL NO. of ITERATIONS REACHED LIMIT.\n",
            "\n",
            "Increase the number of iterations (max_iter) or scale the data as shown in:\n",
            "    https://scikit-learn.org/stable/modules/preprocessing.html\n",
            "Please also refer to the documentation for alternative solver options:\n",
            "    https://scikit-learn.org/stable/modules/linear_model.html#logistic-regression\n",
            "  extra_warning_msg=_LOGISTIC_SOLVER_CONVERGENCE_MSG)\n",
            "/usr/local/lib/python3.7/dist-packages/sklearn/linear_model/_logistic.py:940: ConvergenceWarning: lbfgs failed to converge (status=1):\n",
            "STOP: TOTAL NO. of ITERATIONS REACHED LIMIT.\n",
            "\n",
            "Increase the number of iterations (max_iter) or scale the data as shown in:\n",
            "    https://scikit-learn.org/stable/modules/preprocessing.html\n",
            "Please also refer to the documentation for alternative solver options:\n",
            "    https://scikit-learn.org/stable/modules/linear_model.html#logistic-regression\n",
            "  extra_warning_msg=_LOGISTIC_SOLVER_CONVERGENCE_MSG)\n",
            "/usr/local/lib/python3.7/dist-packages/sklearn/linear_model/_logistic.py:940: ConvergenceWarning: lbfgs failed to converge (status=1):\n",
            "STOP: TOTAL NO. of ITERATIONS REACHED LIMIT.\n",
            "\n",
            "Increase the number of iterations (max_iter) or scale the data as shown in:\n",
            "    https://scikit-learn.org/stable/modules/preprocessing.html\n",
            "Please also refer to the documentation for alternative solver options:\n",
            "    https://scikit-learn.org/stable/modules/linear_model.html#logistic-regression\n",
            "  extra_warning_msg=_LOGISTIC_SOLVER_CONVERGENCE_MSG)\n"
          ],
          "name": "stderr"
        }
      ]
    },
    {
      "cell_type": "markdown",
      "metadata": {
        "id": "jippnhf0ifTW"
      },
      "source": [
        "# Repeated Random Test-Train Split"
      ]
    },
    {
      "cell_type": "code",
      "metadata": {
        "colab": {
          "base_uri": "https://localhost:8080/"
        },
        "id": "TItObJRnieSy",
        "outputId": "6fe681fa-19f7-4ba0-a6c6-2026e1ab94ec"
      },
      "source": [
        "kfold2 = model_selection.ShuffleSplit(n_splits=10, test_size=0.30, random_state=100)\n",
        "model_shufflecv = LogisticRegression()\n",
        "results_4 = model_selection.cross_val_score(model_shufflecv, X, y, cv=kfold2)\n",
        "print(\"Accuracy: %.2f%% (%.2f%%)\" % (results_4.mean()*100.0, results_4.std()*100.0))\n",
        "#87%"
      ],
      "execution_count": null,
      "outputs": [
        {
          "output_type": "stream",
          "text": [
            "/usr/local/lib/python3.7/dist-packages/sklearn/linear_model/_logistic.py:940: ConvergenceWarning: lbfgs failed to converge (status=1):\n",
            "STOP: TOTAL NO. of ITERATIONS REACHED LIMIT.\n",
            "\n",
            "Increase the number of iterations (max_iter) or scale the data as shown in:\n",
            "    https://scikit-learn.org/stable/modules/preprocessing.html\n",
            "Please also refer to the documentation for alternative solver options:\n",
            "    https://scikit-learn.org/stable/modules/linear_model.html#logistic-regression\n",
            "  extra_warning_msg=_LOGISTIC_SOLVER_CONVERGENCE_MSG)\n",
            "/usr/local/lib/python3.7/dist-packages/sklearn/linear_model/_logistic.py:940: ConvergenceWarning: lbfgs failed to converge (status=1):\n",
            "STOP: TOTAL NO. of ITERATIONS REACHED LIMIT.\n",
            "\n",
            "Increase the number of iterations (max_iter) or scale the data as shown in:\n",
            "    https://scikit-learn.org/stable/modules/preprocessing.html\n",
            "Please also refer to the documentation for alternative solver options:\n",
            "    https://scikit-learn.org/stable/modules/linear_model.html#logistic-regression\n",
            "  extra_warning_msg=_LOGISTIC_SOLVER_CONVERGENCE_MSG)\n",
            "/usr/local/lib/python3.7/dist-packages/sklearn/linear_model/_logistic.py:940: ConvergenceWarning: lbfgs failed to converge (status=1):\n",
            "STOP: TOTAL NO. of ITERATIONS REACHED LIMIT.\n",
            "\n",
            "Increase the number of iterations (max_iter) or scale the data as shown in:\n",
            "    https://scikit-learn.org/stable/modules/preprocessing.html\n",
            "Please also refer to the documentation for alternative solver options:\n",
            "    https://scikit-learn.org/stable/modules/linear_model.html#logistic-regression\n",
            "  extra_warning_msg=_LOGISTIC_SOLVER_CONVERGENCE_MSG)\n",
            "/usr/local/lib/python3.7/dist-packages/sklearn/linear_model/_logistic.py:940: ConvergenceWarning: lbfgs failed to converge (status=1):\n",
            "STOP: TOTAL NO. of ITERATIONS REACHED LIMIT.\n",
            "\n",
            "Increase the number of iterations (max_iter) or scale the data as shown in:\n",
            "    https://scikit-learn.org/stable/modules/preprocessing.html\n",
            "Please also refer to the documentation for alternative solver options:\n",
            "    https://scikit-learn.org/stable/modules/linear_model.html#logistic-regression\n",
            "  extra_warning_msg=_LOGISTIC_SOLVER_CONVERGENCE_MSG)\n",
            "/usr/local/lib/python3.7/dist-packages/sklearn/linear_model/_logistic.py:940: ConvergenceWarning: lbfgs failed to converge (status=1):\n",
            "STOP: TOTAL NO. of ITERATIONS REACHED LIMIT.\n",
            "\n",
            "Increase the number of iterations (max_iter) or scale the data as shown in:\n",
            "    https://scikit-learn.org/stable/modules/preprocessing.html\n",
            "Please also refer to the documentation for alternative solver options:\n",
            "    https://scikit-learn.org/stable/modules/linear_model.html#logistic-regression\n",
            "  extra_warning_msg=_LOGISTIC_SOLVER_CONVERGENCE_MSG)\n",
            "/usr/local/lib/python3.7/dist-packages/sklearn/linear_model/_logistic.py:940: ConvergenceWarning: lbfgs failed to converge (status=1):\n",
            "STOP: TOTAL NO. of ITERATIONS REACHED LIMIT.\n",
            "\n",
            "Increase the number of iterations (max_iter) or scale the data as shown in:\n",
            "    https://scikit-learn.org/stable/modules/preprocessing.html\n",
            "Please also refer to the documentation for alternative solver options:\n",
            "    https://scikit-learn.org/stable/modules/linear_model.html#logistic-regression\n",
            "  extra_warning_msg=_LOGISTIC_SOLVER_CONVERGENCE_MSG)\n",
            "/usr/local/lib/python3.7/dist-packages/sklearn/linear_model/_logistic.py:940: ConvergenceWarning: lbfgs failed to converge (status=1):\n",
            "STOP: TOTAL NO. of ITERATIONS REACHED LIMIT.\n",
            "\n",
            "Increase the number of iterations (max_iter) or scale the data as shown in:\n",
            "    https://scikit-learn.org/stable/modules/preprocessing.html\n",
            "Please also refer to the documentation for alternative solver options:\n",
            "    https://scikit-learn.org/stable/modules/linear_model.html#logistic-regression\n",
            "  extra_warning_msg=_LOGISTIC_SOLVER_CONVERGENCE_MSG)\n",
            "/usr/local/lib/python3.7/dist-packages/sklearn/linear_model/_logistic.py:940: ConvergenceWarning: lbfgs failed to converge (status=1):\n",
            "STOP: TOTAL NO. of ITERATIONS REACHED LIMIT.\n",
            "\n",
            "Increase the number of iterations (max_iter) or scale the data as shown in:\n",
            "    https://scikit-learn.org/stable/modules/preprocessing.html\n",
            "Please also refer to the documentation for alternative solver options:\n",
            "    https://scikit-learn.org/stable/modules/linear_model.html#logistic-regression\n",
            "  extra_warning_msg=_LOGISTIC_SOLVER_CONVERGENCE_MSG)\n"
          ],
          "name": "stderr"
        },
        {
          "output_type": "stream",
          "text": [
            "Accuracy: 87.17% (4.02%)\n"
          ],
          "name": "stdout"
        },
        {
          "output_type": "stream",
          "text": [
            "/usr/local/lib/python3.7/dist-packages/sklearn/linear_model/_logistic.py:940: ConvergenceWarning: lbfgs failed to converge (status=1):\n",
            "STOP: TOTAL NO. of ITERATIONS REACHED LIMIT.\n",
            "\n",
            "Increase the number of iterations (max_iter) or scale the data as shown in:\n",
            "    https://scikit-learn.org/stable/modules/preprocessing.html\n",
            "Please also refer to the documentation for alternative solver options:\n",
            "    https://scikit-learn.org/stable/modules/linear_model.html#logistic-regression\n",
            "  extra_warning_msg=_LOGISTIC_SOLVER_CONVERGENCE_MSG)\n",
            "/usr/local/lib/python3.7/dist-packages/sklearn/linear_model/_logistic.py:940: ConvergenceWarning: lbfgs failed to converge (status=1):\n",
            "STOP: TOTAL NO. of ITERATIONS REACHED LIMIT.\n",
            "\n",
            "Increase the number of iterations (max_iter) or scale the data as shown in:\n",
            "    https://scikit-learn.org/stable/modules/preprocessing.html\n",
            "Please also refer to the documentation for alternative solver options:\n",
            "    https://scikit-learn.org/stable/modules/linear_model.html#logistic-regression\n",
            "  extra_warning_msg=_LOGISTIC_SOLVER_CONVERGENCE_MSG)\n"
          ],
          "name": "stderr"
        }
      ]
    },
    {
      "cell_type": "markdown",
      "metadata": {
        "id": "GTBybSMXjk9w"
      },
      "source": [
        "# Conclusion:\n",
        "\n",
        "I've decided that overall I prefer Logistic Regression model because I feel that the scores are very close to one another and makes me feel comfortable with the accuracy of the model. Also the RMSE is 0.7 with a score of 88.33%. Many of my models have between 80-90% but overall the RMSE is much larger than the Logistic Regression RMSE. So with that being said I believe the Logistic Regression model is the best model for this dataset."
      ]
    }
  ]
}